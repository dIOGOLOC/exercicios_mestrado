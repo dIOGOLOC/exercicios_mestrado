{
 "metadata": {
  "name": ""
 },
 "nbformat": 3,
 "nbformat_minor": 0,
 "worksheets": [
  {
   "cells": [
    {
     "cell_type": "markdown",
     "metadata": {},
     "source": [
      "<h2>Teste de Qui-Quadrado</h2>\n",
      "\n",
      "Dado os resultados obtidos na lista 1 sobre ajuste polinomial, fa\u00e7a um teste que Qui-\n",
      "Quadrado e decida qual o grau do polin\u00f4mio (1, 2 ou 3) que melhor representa os dados\n",
      "experimentais com suas respectivas incertezas."
     ]
    },
    {
     "cell_type": "code",
     "collapsed": false,
     "input": [
      "%pylab inline"
     ],
     "language": "python",
     "metadata": {},
     "outputs": [
      {
       "output_type": "stream",
       "stream": "stdout",
       "text": [
        "Populating the interactive namespace from numpy and matplotlib\n"
       ]
      }
     ],
     "prompt_number": 26
    },
    {
     "cell_type": "code",
     "collapsed": false,
     "input": [
      "from __future__ import print_function\n",
      "import numpy as np\n",
      "import matplotlib.pyplot as plt\n",
      "from scipy import stats as st"
     ],
     "language": "python",
     "metadata": {},
     "outputs": [],
     "prompt_number": 27
    },
    {
     "cell_type": "code",
     "collapsed": false,
     "input": [
      "dados=np.array([[1,1.10,0.10],[2,1.00,0.10],[3,1.20,0.11],[4,1.36,0.12],[5,1.20,0.14],[6,1.55,0.16],[7,2.00,0.19],[8,2.14,0.21],\n",
      "       [9,2.11,0.24],[10,2.40,0.26],[11,2.61,0.28],[12,3.13,0.29],[13,3.00,0.30],[14,2.80,0.30],[15,2.71,0.29],[16,3.21,0.28],\n",
      "       [17,2.41,0.27],[18,2.51,0.25],[19,2.25,0.22],[20,2.11,0.20]])\n",
      "dados=dados.T"
     ],
     "language": "python",
     "metadata": {},
     "outputs": [],
     "prompt_number": 28
    },
    {
     "cell_type": "code",
     "collapsed": false,
     "input": [
      "x=dados[0]\n",
      "y=dados[1]\n",
      "sigma=dados[2]"
     ],
     "language": "python",
     "metadata": {},
     "outputs": [],
     "prompt_number": 29
    },
    {
     "cell_type": "markdown",
     "metadata": {},
     "source": [
      "<h3>Plotando o gr\u00e1fico com as barras de erro:</h3>\n"
     ]
    },
    {
     "cell_type": "code",
     "collapsed": false,
     "input": [
      "plt.errorbar(x,y,yerr=sigma,fmt='or')"
     ],
     "language": "python",
     "metadata": {},
     "outputs": [
      {
       "metadata": {},
       "output_type": "pyout",
       "prompt_number": 30,
       "text": [
        "<Container object of 3 artists>"
       ]
      },
      {
       "metadata": {},
       "output_type": "display_data",
       "png": "[encoded data removed]",
       "text": [
        "<matplotlib.figure.Figure at 0x32da310>"
       ]
      }
     ],
     "prompt_number": 30
    },
    {
     "cell_type": "markdown",
     "metadata": {},
     "source": [
      "<h3>Ajuste polinomial de 1\u00ba grau(y=ax+b):</h3>"
     ]
    },
    {
     "cell_type": "code",
     "collapsed": false,
     "input": [
      "#Matriz Sensibilidade:\n",
      "\n",
      "A1=np.array([(x),(np.ones(20))]).T\n",
      "\n",
      "#Matriz Peso\n",
      "\n",
      "W=np.diag(1/sigma**2)"
     ],
     "language": "python",
     "metadata": {},
     "outputs": [],
     "prompt_number": 31
    },
    {
     "cell_type": "code",
     "collapsed": false,
     "input": [
      "#Calculo do Ajuste polinomial de 1\u00ba ordem:\n",
      "          \n",
      "p1=np.linalg.solve(np.dot(A1.T,np.dot(W,A1)),np.dot(A1.T,np.dot(W,y.T)))\n",
      "\n",
      "print(p1)\n",
      "\n",
      "yc1=p1[0]*x+p1[1]\n",
      "print(yc1)"
     ],
     "language": "python",
     "metadata": {},
     "outputs": [
      {
       "output_type": "stream",
       "stream": "stdout",
       "text": [
        "[ 0.09554101  0.98890697]\n",
        "[ 1.08444798  1.17998899  1.27553     1.37107101  1.46661202  1.56215303\n",
        "  1.65769404  1.75323505  1.84877606  1.94431707  2.03985808  2.13539909\n",
        "  2.2309401   2.32648111  2.42202212  2.51756313  2.61310414  2.70864514\n",
        "  2.80418615  2.89972716]\n"
       ]
      }
     ],
     "prompt_number": 32
    },
    {
     "cell_type": "markdown",
     "metadata": {},
     "source": [
      "<h3>Ajuste polinomial de 2\u00ba grau(y=ax\u00b2+bx+c):</h3>"
     ]
    },
    {
     "cell_type": "code",
     "collapsed": false,
     "input": [
      "#Matriz Sensibilidade:\n",
      "\n",
      "A2=np.array([(x**2),(x),(np.ones(20))]).T"
     ],
     "language": "python",
     "metadata": {},
     "outputs": [],
     "prompt_number": 33
    },
    {
     "cell_type": "code",
     "collapsed": false,
     "input": [
      "#Calculo do Ajuste polinomial de 2\u00ba ordem:\n",
      "\n",
      "p2=np.linalg.solve(np.dot(A2.T,np.dot(W,A2)),np.dot(A2.T,np.dot(W,y.T)))\n",
      "\n",
      "print(p2)\n",
      "\n",
      "yc2=p2[0]*x**2+p2[1]*x+p2[2]\n",
      "print(yc2)"
     ],
     "language": "python",
     "metadata": {},
     "outputs": [
      {
       "output_type": "stream",
       "stream": "stdout",
       "text": [
        "[-0.00781545  0.24711767  0.59045865]\n",
        "[ 0.82976086  1.05343218  1.2614726   1.45388213  1.63066075  1.79180848\n",
        "  1.93732531  2.06721124  2.18146627  2.28009041  2.36308365  2.43044599\n",
        "  2.48217743  2.51827797  2.53874762  2.54358637  2.53279422  2.50637117\n",
        "  2.46431722  2.40663238]\n"
       ]
      }
     ],
     "prompt_number": 34
    },
    {
     "cell_type": "markdown",
     "metadata": {},
     "source": [
      "<h3>Ajuste polinomial de 3\u00ba grau(y=ax\u00b3+bx\u00b2+cx+d):</h3>"
     ]
    },
    {
     "cell_type": "code",
     "collapsed": false,
     "input": [
      "#Matriz Sensibilidade:\n",
      "\n",
      "A3=np.array([(x**3),(x**2),(x),(np.ones(20))]).T"
     ],
     "language": "python",
     "metadata": {},
     "outputs": [],
     "prompt_number": 35
    },
    {
     "cell_type": "code",
     "collapsed": false,
     "input": [
      "#Calculo do Ajuste polinomial de 3\u00ba ordem:\n",
      "\n",
      "p3=np.linalg.solve(np.dot(A3.T,np.dot(W,A3)),np.dot(A3.T,np.dot(W,y.T)))\n",
      "\n",
      "print(p3)\n",
      "\n",
      "yc3=p3[0]*x**3+p3[1]*x**2+p3[2]*x+p3[3]\n",
      "print(yc3)"
     ],
     "language": "python",
     "metadata": {},
     "outputs": [
      {
       "output_type": "stream",
       "stream": "stdout",
       "text": [
        "[-0.00144292  0.03433357 -0.06603399  1.0838585 ]\n",
        "[ 1.05071515  1.07758139  1.15579966  1.27671242  1.43166213  1.61199122\n",
        "  1.80904216  2.0141574   2.21867938  2.41395057  2.5913134   2.74211034\n",
        "  2.85768383  2.92937633  2.94853028  2.90648815  2.79459237  2.60418541\n",
        "  2.32660972  1.95320774]\n"
       ]
      }
     ],
     "prompt_number": 36
    },
    {
     "cell_type": "markdown",
     "metadata": {},
     "source": [
      "<h3>Fazendo o teste do Qui-Quadrado para cada ajuste polinomial:</h3>\n",
      "\n",
      "Al\u00e9m de calcular o grau de liberdade (f) --> definido como a diferen\u00e7a entre o n\u00famero de dados e o n\u00famero de par\u00e2metros ajustados."
     ]
    },
    {
     "cell_type": "markdown",
     "metadata": {},
     "source": [
      "<h4>Teste de Qui-Quadrado para o polin\u00f4mio de 1\u00ba ordem:</h4>"
     ]
    },
    {
     "cell_type": "code",
     "collapsed": false,
     "input": [
      "#chi\u00b2:\n",
      "\n",
      "qui1=sum(((y-yc1)**2)/(sigma**2))\n",
      "print(qui1)\n",
      "\n",
      "#Grau de Liberdade:\n",
      "\n",
      "gl1=len(y)-len(p1)\n",
      "print(gl1)\n"
     ],
     "language": "python",
     "metadata": {},
     "outputs": [
      {
       "output_type": "stream",
       "stream": "stdout",
       "text": [
        "73.4783690645\n",
        "18\n"
       ]
      }
     ],
     "prompt_number": 77
    },
    {
     "cell_type": "markdown",
     "metadata": {},
     "source": [
      "<h4>Teste de Qui-Quadrado para o polin\u00f4mio de 2\u00ba ordem:</h4>"
     ]
    },
    {
     "cell_type": "code",
     "collapsed": false,
     "input": [
      "#chi\u00b2:\n",
      "\n",
      "qui2=sum(((y-yc2)**2)/(sigma**2))\n",
      "print(qui2)\n",
      "\n",
      "#Grau de Liberdade:\n",
      "\n",
      "gl2=len(y)-len(p2)\n",
      "print(gl2)"
     ],
     "language": "python",
     "metadata": {},
     "outputs": [
      {
       "output_type": "stream",
       "stream": "stdout",
       "text": [
        "40.6168348142\n",
        "17\n"
       ]
      }
     ],
     "prompt_number": 78
    },
    {
     "cell_type": "markdown",
     "metadata": {},
     "source": [
      "<h4>Teste de Qui-Quadrado para o polin\u00f4mio de 3\u00ba ordem:</h4>"
     ]
    },
    {
     "cell_type": "code",
     "collapsed": false,
     "input": [
      "#chi\u00b2:\n",
      "\n",
      "qui3=sum(((y-yc3)**2)/(sigma**2))\n",
      "print(qui3)\n",
      "\n",
      "#Grau de Liberdade:\n",
      "gl3=len(y)-len(p3)\n",
      "print(gl3)"
     ],
     "language": "python",
     "metadata": {},
     "outputs": [
      {
       "output_type": "stream",
       "stream": "stdout",
       "text": [
        "12.9161585202\n",
        "16\n"
       ]
      }
     ],
     "prompt_number": 79
    }
   ],
   "metadata": {}
  }
 ]
}