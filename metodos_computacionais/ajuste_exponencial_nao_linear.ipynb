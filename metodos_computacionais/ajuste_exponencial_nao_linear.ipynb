{
 "metadata": {
  "name": ""
 },
 "nbformat": 3,
 "nbformat_minor": 0,
 "worksheets": [
  {
   "cells": [
    {
     "cell_type": "code",
     "collapsed": false,
     "input": [
      "%pylab inline"
     ],
     "language": "python",
     "metadata": {},
     "outputs": [
      {
       "output_type": "stream",
       "stream": "stdout",
       "text": [
        "Populating the interactive namespace from numpy and matplotlib\n"
       ]
      }
     ],
     "prompt_number": 2
    },
    {
     "cell_type": "code",
     "collapsed": false,
     "input": [
      "from __future__ import print_function\n",
      "import numpy as np\n",
      "import matplotlib.pyplot as plt"
     ],
     "language": "python",
     "metadata": {},
     "outputs": [],
     "prompt_number": 3
    },
    {
     "cell_type": "markdown",
     "metadata": {},
     "source": [
      "<h1>Lista 2 \u2013 Interpola\u00e7\u00e3o ponderada pelo Inverso da Pot\u00eancia da Dist\u00e2ncia (IPD)</h1>\n"
     ]
    },
    {
     "cell_type": "code",
     "collapsed": false,
     "input": [
      "#Vetores de Par\u00e2metros\n",
      "\n",
      "dados=np.loadtxt('/home/diogo/Dropbox/metodos computacionais/28-11-13/relevo.txt')\n",
      "x=dados[:,0] #coordenadas cartesianas na dire\u00e7\u00e3o horizontal em km (x)\n",
      "y=dados[:,1] #coordenadas cartesianas na dire\u00e7\u00e3o vertical em km (y)\n",
      "z=dados[:,2] #valores da altitude em metros"
     ],
     "language": "python",
     "metadata": {},
     "outputs": [],
     "prompt_number": 15
    },
    {
     "cell_type": "code",
     "collapsed": false,
     "input": [
      "\n"
     ],
     "language": "python",
     "metadata": {},
     "outputs": [],
     "prompt_number": 57
    },
    {
     "cell_type": "markdown",
     "metadata": {},
     "source": [
      "<h2>Matriz Sensibilidade - Preenchida com as derivadas em rela\u00e7\u00e3o a a1 e lambda1:</h2>"
     ]
    },
    {
     "cell_type": "code",
     "collapsed": false,
     "input": [
      "for i in range(max_int):\n",
      "      fi0=fi\n",
      "      A,B,C=p\n",
      "      G[:,0]=np.ones(N)\n",
      "      G[:,1]=-(C*m-B)*np.exp(C*m-B)\n",
      "      hessian=np.dot(G.T,G)\n",
      "      gradient=np.dot(G.T,(d-d0))\n",
      "      print(hessian,p)\n",
      "      for step in xrange(max_passos):\n",
      "      hessian[diag,diag] += lamb\n",
      "      newp = p + np.linalg.solve(hessian, gradient)\n",
      "      A,B,C=newp\n",
      "      newd0=A+np.exp(C*m-B)\n",
      "      newfi=norm(newd0-d)**2\n",
      "      if newfi >= fi0:\n",
      "          hessian[diag,diag] -= lamb\n",
      "      if lamb < 10**15:\n",
      "      lamb *= dlamb\n",
      "      else:\n",
      "      if lamb > 10**-15:\n",
      "      lamb /= float(dlamb)\n",
      "      p=newp\n",
      "      fi=newfi\n",
      "      d0=newd0\n",
      "      if abs(fi-fi0)/float(fi0) < tol:\n",
      "      print(abs(fi-fi0)/float(fi0))\n",
      "      break\n",
      "      print(i)"
     ],
     "language": "python",
     "metadata": {},
     "outputs": []
    }
   ],
   "metadata": {}
  }
 ]
}