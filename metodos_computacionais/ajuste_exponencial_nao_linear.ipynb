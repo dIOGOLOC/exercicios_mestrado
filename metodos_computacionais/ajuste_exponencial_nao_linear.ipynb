{
 "metadata": {
  "name": ""
 },
 "nbformat": 3,
 "nbformat_minor": 0,
 "worksheets": [
  {
   "cells": [
    {
     "cell_type": "code",
     "collapsed": false,
     "input": [
      "%pylab inline"
     ],
     "language": "python",
     "metadata": {},
     "outputs": [
      {
       "output_type": "stream",
       "stream": "stdout",
       "text": [
        "Populating the interactive namespace from numpy and matplotlib\n"
       ]
      }
     ],
     "prompt_number": 46
    },
    {
     "cell_type": "code",
     "collapsed": false,
     "input": [
      "from __future__ import print_function\n",
      "import numpy as np\n",
      "import matplotlib.pyplot as plt"
     ],
     "language": "python",
     "metadata": {},
     "outputs": [],
     "prompt_number": 47
    },
    {
     "cell_type": "code",
     "collapsed": false,
     "input": [
      "'''Ajuste de Fun\u00e7\u00f5es N\u00e3o Lineares\n",
      "\n",
      "Exemplo:\n",
      "\n",
      "\tAjuste Exponencial\n",
      "\n",
      "\tA(t)=A1.e(-lambda1.t)\n",
      "\n",
      "Determinar A1 e lambda1 (constante de decaimento radioativo) para o melhor ajuste \n",
      "\n",
      "\t\tSendo: t1/2=ln2/lambda, onde t1/2 \u00e9 a meia vida do is\u00f3topo.'''"
     ],
     "language": "python",
     "metadata": {},
     "outputs": [
      {
       "metadata": {},
       "output_type": "pyout",
       "prompt_number": 48,
       "text": [
        "'Ajuste de Fun\\xc3\\xa7\\xc3\\xb5es N\\xc3\\xa3o Lineares\\n\\nExemplo:\\n\\n\\tAjuste Exponencial\\n\\n\\tA(t)=A1.e(-lambda1.t)\\n\\nDeterminar A1 e lambda1 (constante de decaimento radioativo) para o melhor ajuste \\n\\n\\t\\tSendo: t1/2=ln2/lambda, onde t1/2 \\xc3\\xa9 a meia vida do is\\xc3\\xb3topo.'"
       ]
      }
     ],
     "prompt_number": 48
    },
    {
     "cell_type": "code",
     "collapsed": false,
     "input": [
      "#Vetores de Par\u00e2metros\n",
      "\n",
      "t=np.array([0,0.5,1,1.5,2,2.5,3,3.5,4,4.5,5,5.5])\n",
      "a=np.array([16217,9572,5616,3607,2293,1533,1092,847,551,461,371,321])"
     ],
     "language": "python",
     "metadata": {},
     "outputs": [],
     "prompt_number": 56
    },
    {
     "cell_type": "code",
     "collapsed": false,
     "input": [
      "#Chute Inicial:\n",
      "\n",
      "a1=16217\n",
      "lambda1=-1\n"
     ],
     "language": "python",
     "metadata": {},
     "outputs": [],
     "prompt_number": 57
    },
    {
     "cell_type": "code",
     "collapsed": false,
     "input": [
      "#Matriz Sensibilidade - Preenchida com as derivadas em rela\u00e7\u00e3o a a1 e lambda1:\n",
      "\n",
      "A=np.array([[-(np.exp(-lambda1*t))],[a*t*np.exp(-lambda1*t)]])\n",
      "print(A)"
     ],
     "language": "python",
     "metadata": {},
     "outputs": [
      {
       "output_type": "stream",
       "stream": "stdout",
       "text": [
        "[[[ -1.00000000e+00  -1.64872127e+00  -2.71828183e+00  -4.48168907e+00\n",
        "    -7.38905610e+00  -1.21824940e+01  -2.00855369e+01  -3.31154520e+01\n",
        "    -5.45981500e+01  -9.00171313e+01  -1.48413159e+02  -2.44691932e+02]]\n",
        "\n",
        " [[  0.00000000e+00   7.89078000e+03   1.52658707e+04   2.42481787e+04\n",
        "     3.38862113e+04   4.66894081e+04   6.58002190e+04   9.81707573e+04\n",
        "     1.20334323e+05   1.86740539e+05   2.75306410e+05   4.32003606e+05]]]\n"
       ]
      }
     ],
     "prompt_number": 60
    },
    {
     "cell_type": "code",
     "collapsed": false,
     "input": [],
     "language": "python",
     "metadata": {},
     "outputs": []
    }
   ],
   "metadata": {}
  }
 ]
}