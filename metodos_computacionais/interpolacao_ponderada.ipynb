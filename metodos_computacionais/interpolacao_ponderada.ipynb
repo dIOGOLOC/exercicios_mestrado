{
 "metadata": {
  "name": ""
 },
 "nbformat": 3,
 "nbformat_minor": 0,
 "worksheets": [
  {
   "cells": [
    {
     "cell_type": "code",
     "collapsed": false,
     "input": [
      "%pylab inline"
     ],
     "language": "python",
     "metadata": {},
     "outputs": [
      {
       "output_type": "stream",
       "stream": "stdout",
       "text": [
        "Populating the interactive namespace from numpy and matplotlib\n"
       ]
      },
      {
       "output_type": "stream",
       "stream": "stderr",
       "text": [
        "WARNING: pylab import has clobbered these variables: ['dist', 'size']\n",
        "`%pylab --no-import-all` prevents importing * from pylab and numpy\n"
       ]
      }
     ],
     "prompt_number": 62
    },
    {
     "cell_type": "code",
     "collapsed": false,
     "input": [
      "from __future__ import print_function\n",
      "from __future__ import division\n",
      "import numpy as np\n",
      "import matplotlib.pyplot as plt"
     ],
     "language": "python",
     "metadata": {},
     "outputs": [],
     "prompt_number": 63
    },
    {
     "cell_type": "markdown",
     "metadata": {},
     "source": [
      "<h1>Lista 2 \u2013 Interpola\u00e7\u00e3o ponderada pelo Inverso da Pot\u00eancia da Dist\u00e2ncia (IPD)</h1>\n",
      "\n",
      "<p>Fa\u00e7a um programa de computador que possibilite gerar perfis (altura X dist\u00e2ncia) sobre a \u00e1rea de interesse usando IPD.</p> \n",
      "\n",
      "<p>Os dados com as alturas est\u00e3o no arquivo texto \u201crelevo.txt\u201d que apresenta 3 colunas:</p>\n",
      "\n",
      "<p>1 coluna = coordenadas cartesianas na dire\u00e7\u00e3o horizontal em km (x)</p>\n",
      "<p>2 coluna= coordenadas cartesianas na dire\u00e7\u00e3o vertical em km (y)</p>\n",
      "<p>3 coluna = valores da altitude em metros</p>\n",
      "\n",
      "<p>a) Gere o perfil de A a B com espa\u00e7amento de 100 m usando interpola\u00e7\u00e3o com pot\u00eancias 1, 2 e 4</p>\n",
      "<p>b) Gere o perfil de C a D com espa\u00e7amento de 100 m usando interpola\u00e7\u00e3o com pot\u00eancias 1, 2 e 4</p>\n",
      "\n",
      "<p>Coordenadas cartesianas dos pontos A, B, C e D.</p>\n",
      "\n",
      "<p>A: x = 0,5 km y = 9,25 km</p>\n",
      "<p>B: x = 7,0 km y = 0,25 km</p>\n",
      "<p>C: x = 0,25 km y = 7,5 km</p>\n",
      "<p>D: x = 7,5 km y = 7,5 km</p>\n",
      "\n",
      "<p>c) Comente os resultados, compare o desempenho da interpola\u00e7\u00e3o com diferentes pot\u00eancias.</p>\n",
      "<p>d) Compare os valores interpolados no ponto onde os perfis se cruzam.</p>"
     ]
    },
    {
     "cell_type": "code",
     "collapsed": false,
     "input": [
      "#Vetores de Par\u00e2metros\n",
      "\n",
      "dados = np.loadtxt('/home/diogo/Dropbox/metodos computacionais/28-11-13/relevo.txt')\n",
      "x = dados[:,0] #coordenadas cartesianas na dire\u00e7\u00e3o horizontal em km (x)\n",
      "y = dados[:,1] #coordenadas cartesianas na dire\u00e7\u00e3o vertical em km (y)\n",
      "z = dados[:,2] #valores da altitude em metros\n",
      "\n",
      "\n",
      "#Coordenadas cartesianas dos pontos A, B, C e D.\n",
      "\n",
      "A = np.array([0.5,9.25])\n",
      "B = np.array([7.0,0.25])\n",
      "C = np.array([0.25,7.5])\n",
      "D = np.array([7.5,7.5])\n",
      "\n",
      "print(len(y))"
     ],
     "language": "python",
     "metadata": {},
     "outputs": [
      {
       "output_type": "stream",
       "stream": "stdout",
       "text": [
        "80\n"
       ]
      }
     ],
     "prompt_number": 64
    },
    {
     "cell_type": "markdown",
     "metadata": {},
     "source": [
      "<h2>N\u00famero da Pot\u00eancia:</h2>"
     ]
    },
    {
     "cell_type": "code",
     "collapsed": false,
     "input": [
      "p=1\n"
     ],
     "language": "python",
     "metadata": {},
     "outputs": [],
     "prompt_number": 65
    },
    {
     "cell_type": "markdown",
     "metadata": {},
     "source": [
      "<h2>Plotando a malha de dados de altitude e os perfis A-B e C-D</h2>"
     ]
    },
    {
     "cell_type": "code",
     "collapsed": false,
     "input": [
      "plt.plot(x,y,'+b')\n",
      "plt.plot((A[0],B[0]),(A[1],B[1]),'k')\n",
      "plt.plot(C,D,'k')\n",
      "plt.plot(A[0],A[1],'or')\n",
      "plt.text(A[0],A[1],'A',fontweight='bold',fontsize=15,verticalalignment='bottom', horizontalalignment='right')\n",
      "plt.plot(B[0],B[1],'or')\n",
      "plt.text(B[0],B[1],'B',fontweight='bold',fontsize=15,verticalalignment='bottom', horizontalalignment='left')\n",
      "plt.plot(C[0],C[1],'or')\n",
      "plt.text(C[0],C[1],'C',fontweight='bold',fontsize=15,verticalalignment='bottom', horizontalalignment='right')\n",
      "plt.plot(D[0],D[1],'or')\n",
      "plt.text(D[0],D[1],'D',fontweight='bold',fontsize=15,verticalalignment='bottom', horizontalalignment='left')\n",
      "plt.xlim(0,8)\n",
      "plt.ylim(0,10)"
     ],
     "language": "python",
     "metadata": {},
     "outputs": [
      {
       "metadata": {},
       "output_type": "pyout",
       "prompt_number": 66,
       "text": [
        "(0, 10)"
       ]
      },
      {
       "metadata": {},
       "output_type": "display_data",
       "png": "[encoded data removed]",
       "text": [
        "<matplotlib.figure.Figure at 0x3f7bc50>"
       ]
      }
     ],
     "prompt_number": 66
    },
    {
     "cell_type": "markdown",
     "metadata": {},
     "source": [
      "<h2>Fazendo o perfil C-D para interpolar os valores:</h2>"
     ]
    },
    {
     "cell_type": "code",
     "collapsed": false,
     "input": [
      "#Tamanho da malha\n",
      "\n",
      "size=0.1 #Como est\u00e1 em Km ser\u00e1 0.1 km = 100 m\n",
      "\n",
      "#Perfil C-D: \n",
      "\n",
      "xcd = np.arange(C[0],D[0],size)\n",
      "ycd = np.arange(C[1],D[1],size)\n",
      "\n",
      "#Condi\u00e7\u00e3o para n\u00e3o ter um elemento vazio:\n",
      "\n",
      "if xcd.any() <= 0:\n",
      "   xcd = np.ones(1)*C[0]\n",
      "\n",
      "if ycd.any() <= 0:\n",
      "   ycd = np.ones(1)*C[1]\n",
      "\n",
      "#Tamanho do Perfil C-D:\n",
      "\n",
      "print(xcd)\n"
     ],
     "language": "python",
     "metadata": {},
     "outputs": [
      {
       "output_type": "stream",
       "stream": "stdout",
       "text": [
        "[ 0.25  0.35  0.45  0.55  0.65  0.75  0.85  0.95  1.05  1.15  1.25  1.35\n",
        "  1.45  1.55  1.65  1.75  1.85  1.95  2.05  2.15  2.25  2.35  2.45  2.55\n",
        "  2.65  2.75  2.85  2.95  3.05  3.15  3.25  3.35  3.45  3.55  3.65  3.75\n",
        "  3.85  3.95  4.05  4.15  4.25  4.35  4.45  4.55  4.65  4.75  4.85  4.95\n",
        "  5.05  5.15  5.25  5.35  5.45  5.55  5.65  5.75  5.85  5.95  6.05  6.15\n",
        "  6.25  6.35  6.45  6.55  6.65  6.75  6.85  6.95  7.05  7.15  7.25  7.35\n",
        "  7.45]\n"
       ]
      }
     ],
     "prompt_number": 67
    },
    {
     "cell_type": "markdown",
     "metadata": {},
     "source": [
      "<h2>Calculando o valor estimado para altitude(z) no Perfil C-D:</h2>"
     ]
    },
    {
     "cell_type": "code",
     "collapsed": false,
     "input": [
      "interpolCD = np.empty_like(xcd)\n",
      "dist = np.empty_like(x)\n",
      "nominator = 0\n",
      "denominator = 0\n",
      "for j in xrange(0,len(xcd)):\n",
      "    for i in xrange(0,len(x)):\n",
      "        dist[i] = np.sqrt((xcd[j]-x[i])**2+(ycd-y[i])**2)\n",
      "        nominator = nominator + z[i]/dist[i]**p\n",
      "        denominator = denominator + 1/dist[i]**p\n",
      "    interpolCD[j] = nominator/denominator\n",
      "print(interpolCD)"
     ],
     "language": "python",
     "metadata": {},
     "outputs": [
      {
       "output_type": "stream",
       "stream": "stdout",
       "text": [
        "[ 7.78356482  7.79387176  7.80456252  7.81567235  7.82726563  7.83945689\n",
        "  7.8524308   7.86643983  7.88175794  7.89860759  7.91711748  7.93733714\n",
        "  7.95927939  7.98295679  8.0084037   8.03569067  8.06493942  8.09634092\n",
        "  8.13016828  8.16677197  8.20655552  8.24993913  8.29730654  8.34890751\n",
        "  8.4046758   8.46393957  8.52509883  8.5855466   8.64219025  8.69246786\n",
        "  8.73511435  8.77016812  8.79848221  8.82120595  8.83942437  8.85392804\n",
        "  8.86506174  8.8726826   8.87631728  8.8754915   8.87000556  8.85998358\n",
        "  8.84576192  8.82776212  8.80641843  8.78216179  8.75543556  8.72670541\n",
        "  8.6964245   8.66495667  8.63251682  8.59917408  8.56490116  8.52963702\n",
        "  8.49335334  8.45613204  8.41824763  8.38020421  8.34264871  8.30616603\n",
        "  8.2711022   8.2375354   8.20535876  8.17438275  8.1444138   8.11531032\n",
        "  8.08702372  8.05961414  8.03321609  8.00795837  7.98389425  7.96098787\n",
        "  7.93914349]\n"
       ]
      }
     ],
     "prompt_number": 68
    },
    {
     "cell_type": "code",
     "collapsed": false,
     "input": [
      "print(shape(interpolCD))"
     ],
     "language": "python",
     "metadata": {},
     "outputs": [
      {
       "output_type": "stream",
       "stream": "stdout",
       "text": [
        "(73,)\n"
       ]
      }
     ],
     "prompt_number": 69
    },
    {
     "cell_type": "markdown",
     "metadata": {},
     "source": [
      "<h2>Plotando os dados calculados para o perfil C-D</h2>"
     ]
    },
    {
     "cell_type": "code",
     "collapsed": false,
     "input": [
      "plt.plot(xcd,interpolCD,'or',xcd,interpolCD,'k',lw=2,markersize=5)\n",
      "plt.xlabel('Posicao (km)')\n",
      "plt.ylabel('Altitude (m)')\n",
      "plt.xlim(0,8)\n",
      "plt.ylim(0,20)"
     ],
     "language": "python",
     "metadata": {},
     "outputs": [
      {
       "metadata": {},
       "output_type": "pyout",
       "prompt_number": 70,
       "text": [
        "(0, 20)"
       ]
      },
      {
       "metadata": {},
       "output_type": "display_data",
       "png": "[encoded data removed]",
       "text": [
        "<matplotlib.figure.Figure at 0x3c4e110>"
       ]
      }
     ],
     "prompt_number": 70
    },
    {
     "cell_type": "markdown",
     "metadata": {},
     "source": [
      "<h2>Fazendo o perfil A-B para interpolar os valores:</h2>"
     ]
    },
    {
     "cell_type": "code",
     "collapsed": false,
     "input": [
      "#Perfil A-B:\n",
      "\n",
      "#Para fazer tal perfil antes \u00e9 necess\u00e1rio fazer um reta (y=ax + b) que una os pontos A e B, \n",
      "\n",
      "#tg\u03b1 = cateto oposto / cateto adjacente\n",
      "\n",
      "m = (A[1] - B[1])/(A[0] - B[0])\n",
      "\n",
      "#Calculo da Equa\u00e7\u00e3o da Reta: yab \u2013 yA = m (xab \u2013 xA) \n",
      "\n",
      "xab=np.arange(0.5,7,size)\n",
      "\n",
      "yab=m*xab + 10\n",
      "\n",
      "\n",
      "#Tamanho do Perfil A-B:\n",
      "\n",
      "print(m)"
     ],
     "language": "python",
     "metadata": {},
     "outputs": [
      {
       "output_type": "stream",
       "stream": "stdout",
       "text": [
        "-1.38461538462\n"
       ]
      }
     ],
     "prompt_number": 71
    },
    {
     "cell_type": "markdown",
     "metadata": {},
     "source": [
      "<h2>Plotando o perfil A-B com a reta calculada:</h2>"
     ]
    },
    {
     "cell_type": "code",
     "collapsed": false,
     "input": [
      "plt.plot(xab,yab,'--k')\n",
      "plt.plot(A[0],A[1],'or')\n",
      "plt.text(A[0],A[1],'A',fontweight='bold',fontsize=15,verticalalignment='bottom', horizontalalignment='right')\n",
      "plt.plot(B[0],B[1],'or')\n",
      "plt.text(B[0],B[1],'B',fontweight='bold',fontsize=15,verticalalignment='bottom', horizontalalignment='left')\n",
      "plt.xlim(0,8)\n",
      "plt.ylim(0,10)"
     ],
     "language": "python",
     "metadata": {},
     "outputs": [
      {
       "metadata": {},
       "output_type": "pyout",
       "prompt_number": 72,
       "text": [
        "(0, 10)"
       ]
      },
      {
       "metadata": {},
       "output_type": "display_data",
       "png": "[encoded data removed]",
       "text": [
        "<matplotlib.figure.Figure at 0x3038210>"
       ]
      }
     ],
     "prompt_number": 72
    },
    {
     "cell_type": "markdown",
     "metadata": {},
     "source": [
      "<h2>Calculando o valor estimado para altitude(z):</h2>"
     ]
    },
    {
     "cell_type": "code",
     "collapsed": false,
     "input": [
      "interpolAB = np.empty_like(xab)\n",
      "dist = np.empty_like(x)\n",
      "nominator = 0\n",
      "denominator = 0\n",
      "for j in xrange(0,len(xab)):\n",
      "    for i in xrange(0,len(x)):\n",
      "        dist[i] = np.sqrt((xab[j]-x[i])**2+(yab[j]-y[i])**2)\n",
      "        nominator = nominator + z[i]/dist[i]**p\n",
      "        denominator = denominator + 1/dist[i]**p\n",
      "    interpolAB[j] = nominator/denominator\n",
      "print(interpolAB)"
     ],
     "language": "python",
     "metadata": {},
     "outputs": [
      {
       "output_type": "stream",
       "stream": "stdout",
       "text": [
        "[ 7.08374044  7.08416219  7.07320946  7.06025859  7.08226709  7.1302405\n",
        "  7.18729169  7.24685469  7.30714844  7.3684201   7.43102052  7.49522327\n",
        "  7.5616865   7.63129703  7.70517749  7.78570046  7.87475772  7.95648303\n",
        "  8.03446134  8.11127503  8.18658054  8.26116052  8.3407431   8.44467965\n",
        "  8.64344856  8.7588401   8.80703472  8.83258772  8.84748337  8.85550343\n",
        "  8.8576889   8.85516188  8.84877008  8.83662203  8.81720804  8.79153799\n",
        "  8.76084447  8.72619213  8.68893095  8.64970809  8.60892187  8.56733798\n",
        "  8.5253204   8.4814347   8.4292547   8.32401123  8.25425005  8.21966166\n",
        "  8.19604442  8.17881472  8.16675496  8.1600977   8.16049164  8.17100882\n",
        "  8.18364398  8.18962843  8.19256224  8.19455774  8.19610936  8.19668514\n",
        "  8.19584012  8.19369554  8.19058499  8.18681877  8.18261463]\n"
       ]
      }
     ],
     "prompt_number": 73
    },
    {
     "cell_type": "markdown",
     "metadata": {},
     "source": [
      "<h2>Plotando o gr\u00e1fico do perfil AB:</h2>"
     ]
    },
    {
     "cell_type": "code",
     "collapsed": false,
     "input": [
      "plt.plot(xab,interpolAB,'or',xab,interpolAB,'k',lw=2,markersize=5)\n",
      "plt.xlim(0,8)\n",
      "plt.ylim(0,20)"
     ],
     "language": "python",
     "metadata": {},
     "outputs": [
      {
       "metadata": {},
       "output_type": "pyout",
       "prompt_number": 74,
       "text": [
        "(0, 20)"
       ]
      },
      {
       "metadata": {},
       "output_type": "display_data",
       "png": "[encoded data removed]",
       "text": [
        "<matplotlib.figure.Figure at 0x3c306d0>"
       ]
      }
     ],
     "prompt_number": 74
    }
   ],
   "metadata": {}
  }
 ]
}