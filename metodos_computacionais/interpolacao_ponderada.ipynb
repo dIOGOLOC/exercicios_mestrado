{
 "metadata": {
  "name": ""
 },
 "nbformat": 3,
 "nbformat_minor": 0,
 "worksheets": [
  {
   "cells": [
    {
     "cell_type": "code",
     "collapsed": false,
     "input": [
      "%pylab inline"
     ],
     "language": "python",
     "metadata": {},
     "outputs": [
      {
       "output_type": "stream",
       "stream": "stdout",
       "text": [
        "Populating the interactive namespace from numpy and matplotlib\n"
       ]
      }
     ],
     "prompt_number": 1
    },
    {
     "cell_type": "code",
     "collapsed": false,
     "input": [
      "from __future__ import print_function\n",
      "import numpy as np\n",
      "import matplotlib.pyplot as plt"
     ],
     "language": "python",
     "metadata": {},
     "outputs": [],
     "prompt_number": 2
    },
    {
     "cell_type": "markdown",
     "metadata": {},
     "source": [
      "<h1>Lista 2 \u2013 Interpola\u00e7\u00e3o ponderada pelo Inverso da Pot\u00eancia da Dist\u00e2ncia (IPD)</h1>\n"
     ]
    },
    {
     "cell_type": "code",
     "collapsed": false,
     "input": [
      "#Vetores de Par\u00e2metros\n",
      "\n",
      "dados = np.loadtxt('/home/diogo/Dropbox/metodos computacionais/28-11-13/relevo.txt')\n",
      "x = dados[:,0] #coordenadas cartesianas na dire\u00e7\u00e3o horizontal em km (x)\n",
      "y = dados[:,1] #coordenadas cartesianas na dire\u00e7\u00e3o vertical em km (y)\n",
      "z = dados[:,2] #valores da altitude em metros\n",
      "\n",
      "#Coordenadas cartesianas dos pontos A, B, C e D.\n",
      "\n",
      "A = np.array([0.5,9.25])\n",
      "B = np.array([7.0,0.25])\n",
      "C = np.array([0.25,7.5])\n",
      "D = np.array([7.5,7.5])\n",
      "print(x)\n",
      "print(y)"
     ],
     "language": "python",
     "metadata": {},
     "outputs": [
      {
       "output_type": "stream",
       "stream": "stdout",
       "text": [
        "[ 1.  1.  1.  1.  1.  1.  1.  1.  1.  1.  2.  2.  2.  2.  2.  2.  2.  2.\n",
        "  2.  2.  3.  3.  3.  3.  3.  3.  3.  3.  3.  3.  4.  4.  4.  4.  4.  4.\n",
        "  4.  4.  4.  4.  5.  5.  5.  5.  5.  5.  5.  5.  5.  5.  6.  6.  6.  6.\n",
        "  6.  6.  6.  6.  6.  6.  7.  7.  7.  7.  7.  7.  7.  7.  7.  7.  8.  8.\n",
        "  8.  8.  8.  8.  8.  8.  8.  8.]\n",
        "[  1.   2.   3.   4.   5.   6.   7.   8.   9.  10.   1.   2.   3.   4.   5.\n",
        "   6.   7.   8.   9.  10.   1.   2.   3.   4.   5.   6.   7.   8.   9.  10.\n",
        "   1.   2.   3.   4.   5.   6.   7.   8.   9.  10.   1.   2.   3.   4.   5.\n",
        "   6.   7.   8.   9.  10.   1.   2.   3.   4.   5.   6.   7.   8.   9.  10.\n",
        "   1.   2.   3.   4.   5.   6.   7.   8.   9.  10.   1.   2.   3.   4.   5.\n",
        "   6.   7.   8.   9.  10.]\n"
       ]
      }
     ],
     "prompt_number": 62
    },
    {
     "cell_type": "markdown",
     "metadata": {},
     "source": [
      "<h2>Plotando a malha de dados do relevo e os perfis A-B e C-D</h2>"
     ]
    },
    {
     "cell_type": "code",
     "collapsed": false,
     "input": [
      "plt.plot(x,y,'+b')\n",
      "plt.plot((A[0],B[0]),(A[1],B[1]),'k')\n",
      "plt.plot(C,D,'k')\n",
      "plt.plot(A[0],A[1],'or')\n",
      "plt.text(A[0],A[1],'A',fontweight='bold',fontsize=15,verticalalignment='bottom', horizontalalignment='right')\n",
      "plt.plot(B[0],B[1],'or')\n",
      "plt.text(B[0],B[1],'B',fontweight='bold',fontsize=15,verticalalignment='bottom', horizontalalignment='left')\n",
      "plt.plot(C[0],C[1],'or')\n",
      "plt.text(C[0],C[1],'C',fontweight='bold',fontsize=15,verticalalignment='bottom', horizontalalignment='right')\n",
      "plt.plot(D[0],D[1],'or')\n",
      "plt.text(D[0],D[1],'D',fontweight='bold',fontsize=15,verticalalignment='bottom', horizontalalignment='left')\n",
      "plt.xlim(0,8)\n",
      "plt.ylim(0,10)"
     ],
     "language": "python",
     "metadata": {},
     "outputs": [
      {
       "metadata": {},
       "output_type": "pyout",
       "prompt_number": 4,
       "text": [
        "(0, 10)"
       ]
      },
      {
       "metadata": {},
       "output_type": "display_data",
       "png": "[encoded data removed]",
       "text": [
        "<matplotlib.figure.Figure at 0x2f63650>"
       ]
      }
     ],
     "prompt_number": 4
    },
    {
     "cell_type": "markdown",
     "metadata": {},
     "source": [
      "<h2>Fazendo o perfil C-D para interpolar os valores:</h2>"
     ]
    },
    {
     "cell_type": "code",
     "collapsed": false,
     "input": [
      "#Tamanho da malha\n",
      "\n",
      "size=0.1 #Como est\u00e1 em Km ser\u00e1 0.1 km = 100 m\n",
      "\n",
      "#Perfil C-D: \n",
      "\n",
      "xc = np.arange(C[0],D[0],size)\n",
      "yc = np.arange(C[1],D[1],size)\n",
      "\n",
      "#Condi\u00e7\u00e3o para n\u00e3o tem um elemento vazio:\n",
      "\n",
      "if xc.any() <= 0:\n",
      "   xc = np.ones(1)\n",
      "\n",
      "if yc.any() <= 0:\n",
      "   yc = np.ones(1)\n",
      "\n",
      "#Tamanho do Perfil:\n",
      "\n",
      "perfil=np.array([shape(xc)[0],shape(yc)[0]])\n",
      "print(perfil)"
     ],
     "language": "python",
     "metadata": {},
     "outputs": [
      {
       "output_type": "stream",
       "stream": "stdout",
       "text": [
        "[73  1]\n"
       ]
      }
     ],
     "prompt_number": 5
    },
    {
     "cell_type": "markdown",
     "metadata": {},
     "source": [
      "<h2>N\u00famero da Pot\u00eancia:</h2>"
     ]
    },
    {
     "cell_type": "code",
     "collapsed": false,
     "input": [
      "p=4"
     ],
     "language": "python",
     "metadata": {},
     "outputs": [],
     "prompt_number": 6
    },
    {
     "cell_type": "markdown",
     "metadata": {},
     "source": [
      "<h2>Calculando o valor estimado para altitude(z):</h2>"
     ]
    },
    {
     "cell_type": "code",
     "collapsed": false,
     "input": [
      "interpol = np.zeros(perfil)\n",
      "for x in xrange(interpol.shape[0]):\n",
      "    for y in xrange(interpol.shape[1]):\n",
      "        dist = np.sqrt((x-dados[:,0])**2+(y-dados[:,1])**2)\n",
      "        if 0 in dist:\n",
      "            ind = np.where(dist == 0)\n",
      "            interpol[x,y] = dados[ind[0][0],2]\n",
      "        else:\n",
      "            interpol[x,y] = np.sum((1/dist**p)*dados[:,2])/np.sum(1/dist**p)\n",
      "            \n",
      "print(shape(interpol))"
     ],
     "language": "python",
     "metadata": {},
     "outputs": [
      {
       "output_type": "stream",
       "stream": "stdout",
       "text": [
        "(73, 1)\n"
       ]
      }
     ],
     "prompt_number": 7
    },
    {
     "cell_type": "markdown",
     "metadata": {},
     "source": [
      "<h2>Plotando os dados calculados para o perfil C-D</h2>"
     ]
    },
    {
     "cell_type": "code",
     "collapsed": false,
     "input": [
      "plt.plot(xc,interpol,'or',xc,interpol,'k',lw=2,markersize=5)\n",
      "plt.axis('normal')\n",
      "plt.xlabel('Posicao (km)')\n",
      "plt.ylabel('Altitude (m)')"
     ],
     "language": "python",
     "metadata": {},
     "outputs": [
      {
       "metadata": {},
       "output_type": "pyout",
       "prompt_number": 8,
       "text": [
        "<matplotlib.text.Text at 0x2fed7d0>"
       ]
      },
      {
       "metadata": {},
       "output_type": "display_data",
       "png": "[encoded data removed]",
       "text": [
        "<matplotlib.figure.Figure at 0x2fd8250>"
       ]
      }
     ],
     "prompt_number": 8
    },
    {
     "cell_type": "markdown",
     "metadata": {},
     "source": [
      "<h2>Fazendo o perfil A-B para interpolar os valores:</h2>"
     ]
    },
    {
     "cell_type": "code",
     "collapsed": false,
     "input": [
      "#Perfil A-B:\n",
      "\n",
      "#Para fazer tal perfil antes \u00e9 necess\u00e1rio fazer um reta (y=ax + b) que una os pontos A e B, \n",
      "\n",
      "#tg\u03b1 = cateto oposto / cateto adjacente\n",
      "\n",
      "m = (A[1] - B[1])/(A[0] - B[0])\n",
      "\n",
      "#Calculo da Equa\u00e7\u00e3o da Reta: y \u2013 y0 = m (x \u2013 x0) \n",
      "\n",
      "xc1=np.arange(0.5,7,0.1)\n",
      "print(shape(x))"
     ],
     "language": "python",
     "metadata": {},
     "outputs": [
      {
       "output_type": "stream",
       "stream": "stdout",
       "text": [
        "(80,)\n"
       ]
      }
     ],
     "prompt_number": 73
    },
    {
     "cell_type": "code",
     "collapsed": false,
     "input": [
      "yc1=-1.39*x1 + 10\n",
      "plt.plot(x1,yc1,'--k')\n",
      "plt.plot(A[0],A[1],'or')\n",
      "plt.text(A[0],A[1],'A',fontweight='bold',fontsize=15,verticalalignment='bottom', horizontalalignment='right')\n",
      "plt.plot(B[0],B[1],'or')\n",
      "plt.text(B[0],B[1],'B',fontweight='bold',fontsize=15,verticalalignment='bottom', horizontalalignment='left')"
     ],
     "language": "python",
     "metadata": {},
     "outputs": [
      {
       "metadata": {},
       "output_type": "pyout",
       "prompt_number": 74,
       "text": [
        "<matplotlib.text.Text at 0x6df1510>"
       ]
      },
      {
       "metadata": {},
       "output_type": "display_data",
       "png": "[encoded data removed]",
       "text": [
        "<matplotlib.figure.Figure at 0x65e9490>"
       ]
      }
     ],
     "prompt_number": 74
    },
    {
     "cell_type": "code",
     "collapsed": false,
     "input": [
      "print(yc1)"
     ],
     "language": "python",
     "metadata": {},
     "outputs": [
      {
       "output_type": "stream",
       "stream": "stdout",
       "text": [
        "[  1.00000000e+01   9.86100000e+00   9.72200000e+00   9.58300000e+00\n",
        "   9.44400000e+00   9.30500000e+00   9.16600000e+00   9.02700000e+00\n",
        "   8.88800000e+00   8.74900000e+00   8.61000000e+00   8.47100000e+00\n",
        "   8.33200000e+00   8.19300000e+00   8.05400000e+00   7.91500000e+00\n",
        "   7.77600000e+00   7.63700000e+00   7.49800000e+00   7.35900000e+00\n",
        "   7.22000000e+00   7.08100000e+00   6.94200000e+00   6.80300000e+00\n",
        "   6.66400000e+00   6.52500000e+00   6.38600000e+00   6.24700000e+00\n",
        "   6.10800000e+00   5.96900000e+00   5.83000000e+00   5.69100000e+00\n",
        "   5.55200000e+00   5.41300000e+00   5.27400000e+00   5.13500000e+00\n",
        "   4.99600000e+00   4.85700000e+00   4.71800000e+00   4.57900000e+00\n",
        "   4.44000000e+00   4.30100000e+00   4.16200000e+00   4.02300000e+00\n",
        "   3.88400000e+00   3.74500000e+00   3.60600000e+00   3.46700000e+00\n",
        "   3.32800000e+00   3.18900000e+00   3.05000000e+00   2.91100000e+00\n",
        "   2.77200000e+00   2.63300000e+00   2.49400000e+00   2.35500000e+00\n",
        "   2.21600000e+00   2.07700000e+00   1.93800000e+00   1.79900000e+00\n",
        "   1.66000000e+00   1.52100000e+00   1.38200000e+00   1.24300000e+00\n",
        "   1.10400000e+00   9.65000000e-01   8.26000000e-01   6.87000000e-01\n",
        "   5.48000000e-01   4.09000000e-01   2.70000000e-01   1.31000000e-01\n",
        "  -8.00000000e-03  -1.47000000e-01  -2.86000000e-01  -4.25000000e-01\n",
        "  -5.64000000e-01  -7.03000000e-01  -8.42000000e-01  -9.81000000e-01]\n"
       ]
      }
     ],
     "prompt_number": 75
    },
    {
     "cell_type": "markdown",
     "metadata": {},
     "source": [
      "<h2>Calculando o valor estimado para altitude(z):</h2>"
     ]
    },
    {
     "cell_type": "code",
     "collapsed": false,
     "input": [],
     "language": "python",
     "metadata": {},
     "outputs": [],
     "prompt_number": 66
    },
    {
     "cell_type": "code",
     "collapsed": false,
     "input": [],
     "language": "python",
     "metadata": {},
     "outputs": [],
     "prompt_number": 66
    },
    {
     "cell_type": "code",
     "collapsed": false,
     "input": [],
     "language": "python",
     "metadata": {},
     "outputs": []
    }
   ],
   "metadata": {}
  }
 ]
}