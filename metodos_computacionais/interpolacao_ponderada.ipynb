{
 "metadata": {
  "name": ""
 },
 "nbformat": 3,
 "nbformat_minor": 0,
 "worksheets": [
  {
   "cells": [
    {
     "cell_type": "code",
     "collapsed": false,
     "input": [
      "%pylab inline"
     ],
     "language": "python",
     "metadata": {},
     "outputs": [
      {
       "output_type": "stream",
       "stream": "stdout",
       "text": [
        "Populating the interactive namespace from numpy and matplotlib\n"
       ]
      }
     ],
     "prompt_number": 1
    },
    {
     "cell_type": "code",
     "collapsed": false,
     "input": [
      "from __future__ import print_function\n",
      "import numpy as np\n",
      "import matplotlib.pyplot as plt\n",
      "from mpl_toolkits.mplot3d import Axes3D"
     ],
     "language": "python",
     "metadata": {},
     "outputs": [],
     "prompt_number": 2
    },
    {
     "cell_type": "markdown",
     "metadata": {},
     "source": [
      "<h1>Lista 2 \u2013 Interpola\u00e7\u00e3o ponderada pelo Inverso da Pot\u00eancia da Dist\u00e2ncia (IPD)</h1>\n"
     ]
    },
    {
     "cell_type": "code",
     "collapsed": false,
     "input": [
      "#Vetores de Par\u00e2metros\n",
      "\n",
      "dados = np.loadtxt('/home/diogo/Dropbox/metodos computacionais/28-11-13/relevo.txt')\n",
      "x = dados[:,0] #coordenadas cartesianas na dire\u00e7\u00e3o horizontal em km (x)\n",
      "y = dados[:,1] #coordenadas cartesianas na dire\u00e7\u00e3o vertical em km (y)\n",
      "z = dados[:,2] #valores da altitude em metros\n",
      "\n",
      "#Coordenadas cartesianas dos pontos A, B, C e D.\n",
      "\n",
      "A = np.array([0.5,9.25])\n",
      "B = np.array([7.0,0.25])\n",
      "C = np.array([0.25,7.5])\n",
      "D = np.array([7.5,7.5])"
     ],
     "language": "python",
     "metadata": {},
     "outputs": [],
     "prompt_number": 3
    },
    {
     "cell_type": "markdown",
     "metadata": {},
     "source": [
      "<h2>N\u00famero da Pot\u00eancia:</h2>"
     ]
    },
    {
     "cell_type": "code",
     "collapsed": false,
     "input": [
      "p=1"
     ],
     "language": "python",
     "metadata": {},
     "outputs": [],
     "prompt_number": 4
    },
    {
     "cell_type": "markdown",
     "metadata": {},
     "source": [
      "<h2>Plotando a malha de dados de altitude e os perfis A-B e C-D</h2>"
     ]
    },
    {
     "cell_type": "code",
     "collapsed": false,
     "input": [
      "plt.plot(x,y,'+b')\n",
      "plt.plot((A[0],B[0]),(A[1],B[1]),'k')\n",
      "plt.plot(C,D,'k')\n",
      "plt.plot(A[0],A[1],'or')\n",
      "plt.text(A[0],A[1],'A',fontweight='bold',fontsize=15,verticalalignment='bottom', horizontalalignment='right')\n",
      "plt.plot(B[0],B[1],'or')\n",
      "plt.text(B[0],B[1],'B',fontweight='bold',fontsize=15,verticalalignment='bottom', horizontalalignment='left')\n",
      "plt.plot(C[0],C[1],'or')\n",
      "plt.text(C[0],C[1],'C',fontweight='bold',fontsize=15,verticalalignment='bottom', horizontalalignment='right')\n",
      "plt.plot(D[0],D[1],'or')\n",
      "plt.text(D[0],D[1],'D',fontweight='bold',fontsize=15,verticalalignment='bottom', horizontalalignment='left')\n",
      "plt.xlim(0,8)\n",
      "plt.ylim(0,10)"
     ],
     "language": "python",
     "metadata": {},
     "outputs": [
      {
       "metadata": {},
       "output_type": "pyout",
       "prompt_number": 5,
       "text": [
        "(0, 10)"
       ]
      },
      {
       "metadata": {},
       "output_type": "display_data",
       "png": "[encoded data removed]",
       "text": [
        "<matplotlib.figure.Figure at 0x2347250>"
       ]
      }
     ],
     "prompt_number": 5
    },
    {
     "cell_type": "markdown",
     "metadata": {},
     "source": [
      "<h2>Fazendo o perfil C-D para interpolar os valores:</h2>"
     ]
    },
    {
     "cell_type": "code",
     "collapsed": false,
     "input": [
      "#Tamanho da malha\n",
      "\n",
      "size=0.1 #Como est\u00e1 em Km ser\u00e1 0.1 km = 100 m\n",
      "\n",
      "#Perfil C-D: \n",
      "\n",
      "xcd = np.arange(C[0],D[0],size)\n",
      "ycd = np.arange(C[1],D[1],size)\n",
      "\n",
      "#Condi\u00e7\u00e3o para n\u00e3o ter um elemento vazio:\n",
      "\n",
      "if xcd.any() <= 0:\n",
      "   xcd = np.ones(1)\n",
      "\n",
      "if ycd.any() <= 0:\n",
      "   ycd = np.ones(1)\n",
      "\n",
      "#Tamanho do Perfil C-D:\n",
      "\n",
      "perfilCD=np.array([shape(xcd)[0],shape(ycd)[0]])"
     ],
     "language": "python",
     "metadata": {},
     "outputs": [],
     "prompt_number": 6
    },
    {
     "cell_type": "markdown",
     "metadata": {},
     "source": [
      "<h2>Calculando o valor estimado para altitude(z) no Perfil C-D:</h2>"
     ]
    },
    {
     "cell_type": "code",
     "collapsed": false,
     "input": [
      "interpolCD = np.zeros(perfilCD)\n",
      "for x in xrange(interpolCD.shape[0]):\n",
      "    for y in xrange(interpolCD.shape[1]):\n",
      "        dist = np.sqrt((x-dados[:,0])**2+(y-dados[:,1])**2)\n",
      "        if 0 in dist:\n",
      "            ind = np.where(dist == 0)\n",
      "            interpolCD[x,y] = dados[ind[0][0],2]\n",
      "        else:\n",
      "            interpolCD[x,y] = np.sum((1/dist**p)*dados[:,2])/np.sum(1/dist**p)\n",
      "            \n",
      "print(interpolCD)"
     ],
     "language": "python",
     "metadata": {},
     "outputs": [
      {
       "output_type": "stream",
       "stream": "stdout",
       "text": [
        "[[ 6.78123806]\n",
        " [ 6.57827803]\n",
        " [ 6.53467806]\n",
        " [ 6.5882558 ]\n",
        " [ 6.81233269]\n",
        " [ 7.27444228]\n",
        " [ 7.60903259]\n",
        " [ 7.64131816]\n",
        " [ 7.53755848]\n",
        " [ 7.4667533 ]\n",
        " [ 7.40514164]\n",
        " [ 7.34705285]\n",
        " [ 7.29868376]\n",
        " [ 7.26043992]\n",
        " [ 7.23081102]\n",
        " [ 7.2080297 ]\n",
        " [ 7.19054987]\n",
        " [ 7.17713415]\n",
        " [ 7.16682609]\n",
        " [ 7.15889684]\n",
        " [ 7.15279379]\n",
        " [ 7.1480982 ]\n",
        " [ 7.14449204]\n",
        " [ 7.14173292]\n",
        " [ 7.13963529]\n",
        " [ 7.1380564 ]\n",
        " [ 7.13688585]\n",
        " [ 7.13603784]\n",
        " [ 7.13544529]\n",
        " [ 7.13505556]\n",
        " [ 7.13482707]\n",
        " [ 7.13472689]\n",
        " [ 7.13472879]\n",
        " [ 7.1348118 ]\n",
        " [ 7.13495909]\n",
        " [ 7.13515714]\n",
        " [ 7.13539501]\n",
        " [ 7.13566386]\n",
        " [ 7.13595651]\n",
        " [ 7.13626714]\n",
        " [ 7.13659101]\n",
        " [ 7.13692424]\n",
        " [ 7.13726371]\n",
        " [ 7.13760686]\n",
        " [ 7.1379516 ]\n",
        " [ 7.13829626]\n",
        " [ 7.13863946]\n",
        " [ 7.13898011]\n",
        " [ 7.13931733]\n",
        " [ 7.13965042]\n",
        " [ 7.13997883]\n",
        " [ 7.14030214]\n",
        " [ 7.14062002]\n",
        " [ 7.14093223]\n",
        " [ 7.1412386 ]\n",
        " [ 7.14153902]\n",
        " [ 7.14183343]\n",
        " [ 7.1421218 ]\n",
        " [ 7.14240414]\n",
        " [ 7.14268048]\n",
        " [ 7.14295088]\n",
        " [ 7.1432154 ]\n",
        " [ 7.14347414]\n",
        " [ 7.14372719]\n",
        " [ 7.14397465]\n",
        " [ 7.14421664]\n",
        " [ 7.14445326]\n",
        " [ 7.14468465]\n",
        " [ 7.14491092]\n",
        " [ 7.14513219]\n",
        " [ 7.14534859]\n",
        " [ 7.14556024]\n",
        " [ 7.14576726]]\n"
       ]
      }
     ],
     "prompt_number": 7
    },
    {
     "cell_type": "markdown",
     "metadata": {},
     "source": [
      "<h2>Plotando os dados calculados para o perfil C-D</h2>"
     ]
    },
    {
     "cell_type": "code",
     "collapsed": false,
     "input": [
      "plt.plot(xcd,interpolCD,'or',xcd,interpolCD,'k',lw=2,markersize=5)\n",
      "plt.xlabel('Posicao (km)')\n",
      "plt.ylabel('Altitude (m)')\n",
      "plt.xlim(0,8)\n",
      "plt.ylim(0,10)"
     ],
     "language": "python",
     "metadata": {},
     "outputs": [
      {
       "metadata": {},
       "output_type": "pyout",
       "prompt_number": 8,
       "text": [
        "(0, 10)"
       ]
      },
      {
       "metadata": {},
       "output_type": "display_data",
       "png": "[encoded data removed]",
       "text": [
        "<matplotlib.figure.Figure at 0x2339b10>"
       ]
      }
     ],
     "prompt_number": 8
    },
    {
     "cell_type": "markdown",
     "metadata": {},
     "source": [
      "<h2>Fazendo o perfil A-B para interpolar os valores:</h2>"
     ]
    },
    {
     "cell_type": "code",
     "collapsed": false,
     "input": [
      "#Perfil A-B:\n",
      "\n",
      "#Para fazer tal perfil antes \u00e9 necess\u00e1rio fazer um reta (y=ax + b) que una os pontos A e B, \n",
      "\n",
      "#tg\u03b1 = cateto oposto / cateto adjacente\n",
      "\n",
      "m = (A[1] - B[1])/(A[0] - B[0])\n",
      "\n",
      "#Calculo da Equa\u00e7\u00e3o da Reta: yab \u2013 yA = m (xab \u2013 xA) \n",
      "\n",
      "xab=np.arange(0.5,7,0.1)\n",
      "\n",
      "yab=-1.39*xab + 10\n",
      "\n",
      "\n",
      "#Tamanho do Perfil A-B:\n",
      "\n",
      "perfilAB=np.array([shape(xab)[0],shape(yab)[0]])"
     ],
     "language": "python",
     "metadata": {},
     "outputs": [],
     "prompt_number": 9
    },
    {
     "cell_type": "markdown",
     "metadata": {},
     "source": [
      "<h2>Plotando o perfil A-B com a reta calculada:</h2>"
     ]
    },
    {
     "cell_type": "code",
     "collapsed": false,
     "input": [
      "plt.plot(xab,yab,'--k')\n",
      "plt.plot(A[0],A[1],'or')\n",
      "plt.text(A[0],A[1],'A',fontweight='bold',fontsize=15,verticalalignment='bottom', horizontalalignment='right')\n",
      "plt.plot(B[0],B[1],'or')\n",
      "plt.text(B[0],B[1],'B',fontweight='bold',fontsize=15,verticalalignment='bottom', horizontalalignment='left')\n",
      "plt.xlim(0,8)\n",
      "plt.ylim(0,10)"
     ],
     "language": "python",
     "metadata": {},
     "outputs": [
      {
       "metadata": {},
       "output_type": "pyout",
       "prompt_number": 10,
       "text": [
        "(0, 10)"
       ]
      },
      {
       "metadata": {},
       "output_type": "display_data",
       "png": "[encoded data removed]",
       "text": [
        "<matplotlib.figure.Figure at 0x23b3150>"
       ]
      }
     ],
     "prompt_number": 10
    },
    {
     "cell_type": "markdown",
     "metadata": {},
     "source": [
      "<h2>Calculando o valor estimado para altitude(z):</h2>"
     ]
    },
    {
     "cell_type": "code",
     "collapsed": false,
     "input": [
      "interpolAB = np.zeros(perfilAB)\n",
      "for x in xrange(interpolAB.shape[0]):\n",
      "    for y in xrange(interpolAB.shape[1]):\n",
      "        dist = np.sqrt((x-dados[:,0])**2+(y-dados[:,1])**2)\n",
      "        if 0 in dist:\n",
      "            ind = np.where(dist == 0)\n",
      "            interpolAB[x,y] = dados[ind[0][0],2]\n",
      "        else:\n",
      "            interpolAB[x,y] = np.sum((1/dist**p)*dados[:,2])/np.sum(1/dist**p)\n",
      "print(diagonal(interpolAB))"
     ],
     "language": "python",
     "metadata": {},
     "outputs": [
      {
       "output_type": "stream",
       "stream": "stdout",
       "text": [
        "[  6.78123806   2.           5.           7.           8.           5.           0.\n",
        "  10.           4.           6.03920571   6.38736261   6.61335992\n",
        "   6.74698583   6.83202376   6.89008308   6.93190739   6.96329754\n",
        "   6.98762544   7.00697214   7.02268588   7.03567563   7.0465749\n",
        "   7.05583781   7.06379777   7.07070476   7.07674958   7.08208027\n",
        "   7.08681332   7.09104156   7.09483981   7.09826904   7.10137936\n",
        "   7.10421234   7.10680272   7.10917975   7.11136823   7.11338931\n",
        "   7.11526112   7.11699932   7.11861745   7.12012734   7.1215393\n",
        "   7.1228624    7.12410465   7.12527311   7.12637408   7.12741314\n",
        "   7.12839531   7.12932505   7.13020641   7.13104301   7.13183814\n",
        "   7.13259475   7.13331556   7.134003     7.13465932   7.13528656\n",
        "   7.13588659   7.13646111   7.13701172   7.13753984   7.13804682\n",
        "   7.13853389   7.13900218   7.13945276]\n"
       ]
      }
     ],
     "prompt_number": 11
    },
    {
     "cell_type": "markdown",
     "metadata": {},
     "source": [
      "<h2>Plotando o gr\u00e1fico do perfil AB:</h2>"
     ]
    },
    {
     "cell_type": "code",
     "collapsed": false,
     "input": [
      "plt.plot(xab,diagonal(interpolAB),'or',xab,diagonal(interpolAB),'k',lw=2,markersize=5)\n",
      "plt.xlim(0,8)\n",
      "plt.ylim(0,10)"
     ],
     "language": "python",
     "metadata": {},
     "outputs": [
      {
       "metadata": {},
       "output_type": "pyout",
       "prompt_number": 12,
       "text": [
        "(0, 10)"
       ]
      },
      {
       "metadata": {},
       "output_type": "display_data",
       "png": "[encoded data removed]",
       "text": [
        "<matplotlib.figure.Figure at 0x23c30d0>"
       ]
      }
     ],
     "prompt_number": 12
    }
   ],
   "metadata": {}
  }
 ]
}