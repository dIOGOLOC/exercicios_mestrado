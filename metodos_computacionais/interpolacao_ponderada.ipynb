{
 "metadata": {
  "name": ""
 },
 "nbformat": 3,
 "nbformat_minor": 0,
 "worksheets": [
  {
   "cells": [
    {
     "cell_type": "code",
     "collapsed": false,
     "input": [
      "%pylab inline"
     ],
     "language": "python",
     "metadata": {},
     "outputs": [
      {
       "output_type": "stream",
       "stream": "stdout",
       "text": [
        "Populating the interactive namespace from numpy and matplotlib\n"
       ]
      },
      {
       "output_type": "stream",
       "stream": "stderr",
       "text": [
        "WARNING: pylab import has clobbered these variables: ['dist', 'size']\n",
        "`%pylab --no-import-all` prevents importing * from pylab and numpy\n"
       ]
      }
     ],
     "prompt_number": 114
    },
    {
     "cell_type": "code",
     "collapsed": false,
     "input": [
      "from __future__ import print_function\n",
      "from __future__ import division\n",
      "import numpy as np\n",
      "import matplotlib.pyplot as plt"
     ],
     "language": "python",
     "metadata": {},
     "outputs": [],
     "prompt_number": 115
    },
    {
     "cell_type": "markdown",
     "metadata": {},
     "source": [
      "<h1>Lista 2 \u2013 Interpola\u00e7\u00e3o ponderada pelo Inverso da Pot\u00eancia da Dist\u00e2ncia (IPD)</h1>\n",
      "\n",
      "<p>Fa\u00e7a um programa de computador que possibilite gerar perfis (altura X dist\u00e2ncia) sobre a \u00e1rea de interesse usando IPD.</p> \n",
      "\n",
      "<p>Os dados com as alturas est\u00e3o no arquivo texto \u201crelevo.txt\u201d que apresenta 3 colunas:</p>\n",
      "\n",
      "<p>1 coluna = coordenadas cartesianas na dire\u00e7\u00e3o horizontal em km (x)</p>\n",
      "<p>2 coluna= coordenadas cartesianas na dire\u00e7\u00e3o vertical em km (y)</p>\n",
      "<p>3 coluna = valores da altitude em metros</p>\n",
      "\n",
      "<p>a) Gere o perfil de A a B com espa\u00e7amento de 100 m usando interpola\u00e7\u00e3o com pot\u00eancias 1, 2 e 4</p>\n",
      "<p>b) Gere o perfil de C a D com espa\u00e7amento de 100 m usando interpola\u00e7\u00e3o com pot\u00eancias 1, 2 e 4</p>\n",
      "\n",
      "<p>Coordenadas cartesianas dos pontos A, B, C e D.</p>\n",
      "\n",
      "<p>A: x = 0,5 km y = 9,25 km</p>\n",
      "<p>B: x = 7,0 km y = 0,25 km</p>\n",
      "<p>C: x = 0,25 km y = 7,5 km</p>\n",
      "<p>D: x = 7,5 km y = 7,5 km</p>\n",
      "\n",
      "<p>c) Comente os resultados, compare o desempenho da interpola\u00e7\u00e3o com diferentes pot\u00eancias.</p>\n",
      "<p>d) Compare os valores interpolados no ponto onde os perfis se cruzam.</p>"
     ]
    },
    {
     "cell_type": "code",
     "collapsed": false,
     "input": [
      "#Vetores de Par\u00e2metros\n",
      "\n",
      "dados = np.loadtxt('/home/diogo/Dropbox/metodos computacionais/28-11-13/relevo.txt')\n",
      "x = dados[:,0] #coordenadas cartesianas na dire\u00e7\u00e3o horizontal em km (x)\n",
      "y = dados[:,1] #coordenadas cartesianas na dire\u00e7\u00e3o vertical em km (y)\n",
      "z = dados[:,2] #valores da altitude em metros\n",
      "\n",
      "\n",
      "#Coordenadas cartesianas dos pontos A, B, C e D.\n",
      "\n",
      "A = np.array([0.5,9.25])\n",
      "B = np.array([7.0,0.25])\n",
      "C = np.array([0.25,7.5])\n",
      "D = np.array([7.5,7.5])"
     ],
     "language": "python",
     "metadata": {},
     "outputs": [],
     "prompt_number": 116
    },
    {
     "cell_type": "markdown",
     "metadata": {},
     "source": [
      "<h2>N\u00famero da Pot\u00eancia:</h2>"
     ]
    },
    {
     "cell_type": "code",
     "collapsed": false,
     "input": [
      "p=4"
     ],
     "language": "python",
     "metadata": {},
     "outputs": [],
     "prompt_number": 117
    },
    {
     "cell_type": "markdown",
     "metadata": {},
     "source": [
      "<h2>Plotando a malha de dados de altitude e os perfis A-B e C-D</h2>"
     ]
    },
    {
     "cell_type": "code",
     "collapsed": false,
     "input": [
      "plt.plot(x,y,'+b')\n",
      "plt.plot((A[0],B[0]),(A[1],B[1]),'k')\n",
      "plt.plot(C,D,'k')\n",
      "plt.plot(A[0],A[1],'or')\n",
      "plt.text(A[0],A[1],'A',fontweight='bold',fontsize=15,verticalalignment='bottom', horizontalalignment='right')\n",
      "plt.plot(B[0],B[1],'or')\n",
      "plt.text(B[0],B[1],'B',fontweight='bold',fontsize=15,verticalalignment='bottom', horizontalalignment='left')\n",
      "plt.plot(C[0],C[1],'or')\n",
      "plt.text(C[0],C[1],'C',fontweight='bold',fontsize=15,verticalalignment='bottom', horizontalalignment='right')\n",
      "plt.plot(D[0],D[1],'or')\n",
      "plt.text(D[0],D[1],'D',fontweight='bold',fontsize=15,verticalalignment='bottom', horizontalalignment='left')\n",
      "plt.plot(1.75,7.5,'og')\n",
      "plt.xlabel('x (km)')\n",
      "plt.ylabel('y (km)')\n",
      "plt.xlim(0,8)\n",
      "plt.ylim(0,10)"
     ],
     "language": "python",
     "metadata": {},
     "outputs": [
      {
       "metadata": {},
       "output_type": "pyout",
       "prompt_number": 118,
       "text": [
        "(0, 10)"
       ]
      },
      {
       "metadata": {},
       "output_type": "display_data",
       "png": "[encoded data removed]",
       "text": [
        "<matplotlib.figure.Figure at 0x3e383d0>"
       ]
      }
     ],
     "prompt_number": 118
    },
    {
     "cell_type": "markdown",
     "metadata": {},
     "source": [
      "<h2>Fazendo o perfil C-D para interpolar os valores:</h2>"
     ]
    },
    {
     "cell_type": "code",
     "collapsed": false,
     "input": [
      "#Tamanho da malha\n",
      "\n",
      "size=0.1 #Como est\u00e1 em Km ser\u00e1 0.1 km = 100 m\n",
      "\n",
      "#Perfil C-D: \n",
      "\n",
      "xcd = np.arange(C[0],D[0],size)\n",
      "ycd = np.arange(C[1],D[1],size)\n",
      "\n",
      "#Condi\u00e7\u00e3o para n\u00e3o ter um elemento vazio:\n",
      "\n",
      "if xcd.any() <= 0:\n",
      "   xcd = np.ones(1)*C[0]\n",
      "\n",
      "if ycd.any() <= 0:\n",
      "   ycd = np.ones(1)*C[1]\n",
      "\n",
      "#Tamanho do Perfil C-D:\n",
      "\n",
      "print(xcd)\n"
     ],
     "language": "python",
     "metadata": {},
     "outputs": [
      {
       "output_type": "stream",
       "stream": "stdout",
       "text": [
        "[ 0.25  0.35  0.45  0.55  0.65  0.75  0.85  0.95  1.05  1.15  1.25  1.35\n",
        "  1.45  1.55  1.65  1.75  1.85  1.95  2.05  2.15  2.25  2.35  2.45  2.55\n",
        "  2.65  2.75  2.85  2.95  3.05  3.15  3.25  3.35  3.45  3.55  3.65  3.75\n",
        "  3.85  3.95  4.05  4.15  4.25  4.35  4.45  4.55  4.65  4.75  4.85  4.95\n",
        "  5.05  5.15  5.25  5.35  5.45  5.55  5.65  5.75  5.85  5.95  6.05  6.15\n",
        "  6.25  6.35  6.45  6.55  6.65  6.75  6.85  6.95  7.05  7.15  7.25  7.35\n",
        "  7.45]\n"
       ]
      }
     ],
     "prompt_number": 119
    },
    {
     "cell_type": "markdown",
     "metadata": {},
     "source": [
      "<h2>Calculando o valor estimado para altitude(z) no Perfil C-D:</h2>"
     ]
    },
    {
     "cell_type": "code",
     "collapsed": false,
     "input": [
      "interpolCD = np.empty_like(xcd)\n",
      "dist = np.empty_like(x)\n",
      "nominator = 0\n",
      "denominator = 0\n",
      "\n",
      "\n",
      "for j in xrange(0,len(xcd)):\n",
      "    for i in xrange(0,len(x)):\n",
      "        dist[i] = np.sqrt((xcd[j]-x[i])**2+(ycd-y[i])**2)\n",
      "        nominator = nominator + z[i]/dist[i]**p\n",
      "        denominator = denominator + 1/dist[i]**p\n",
      "    interpolCD[j] = nominator/denominator\n",
      "print(interpolCD)"
     ],
     "language": "python",
     "metadata": {},
     "outputs": [
      {
       "output_type": "stream",
       "stream": "stdout",
       "text": [
        "[  7.64787657   7.63597752   7.62336263   7.61061357   7.59860779\n",
        "   7.58847436   7.58143535   7.57856387   7.58059223   7.58793291\n",
        "   7.600915     7.62004411   7.64610932   7.68005677   7.72256744\n",
        "   7.77340085   7.83110276   7.89419931   7.96386705   8.04590479\n",
        "   8.15084207   8.29379537   8.49523858   8.78137353   9.18023424\n",
        "   9.70763841  10.34214578  11.00976662  11.6125005   12.0860988\n",
        "  12.4238134   12.65416076  12.8127366   12.92918252  13.02496615\n",
        "  13.1138994   13.20149902  13.28418122  13.35252387  13.3984256\n",
        "  13.41900273  13.41449213  13.38455083  13.32622343  13.23415432\n",
        "  13.10369017  12.93746969  12.75152908  12.57110792  12.41549237\n",
        "  12.28816555  12.18014873  12.07726737  11.96412371  11.82569658\n",
        "  11.65042835  11.43747611  11.2041808   10.98145245  10.79487804\n",
        "  10.65148046  10.54338472  10.45734321  10.38032069  10.30118332\n",
        "  10.21175781  10.10946024  10.00024628   9.89660326   9.80926339\n",
        "   9.7410995    9.68841605   9.64500495]\n"
       ]
      }
     ],
     "prompt_number": 120
    },
    {
     "cell_type": "markdown",
     "metadata": {},
     "source": [
      "<h2>Plotando os dados calculados para o perfil C-D</h2>"
     ]
    },
    {
     "cell_type": "code",
     "collapsed": false,
     "input": [
      "plt.plot(xcd,interpolCD,'or',xcd,interpolCD,'k',lw=2,markersize=5)\n",
      "plt.xlabel('Posicao (km)')\n",
      "plt.ylabel('Altitude (m)')\n",
      "plt.plot(1.75,7.5,'og')\n",
      "plt.xlim(0,8)\n",
      "plt.ylim(0,20)"
     ],
     "language": "python",
     "metadata": {},
     "outputs": [
      {
       "metadata": {},
       "output_type": "pyout",
       "prompt_number": 125,
       "text": [
        "(0, 20)"
       ]
      },
      {
       "metadata": {},
       "output_type": "display_data",
       "png": "[encoded data removed]",
       "text": [
        "<matplotlib.figure.Figure at 0x3d2f3d0>"
       ]
      }
     ],
     "prompt_number": 125
    },
    {
     "cell_type": "markdown",
     "metadata": {},
     "source": [
      "<h2>Fazendo o perfil A-B para interpolar os valores:</h2>"
     ]
    },
    {
     "cell_type": "code",
     "collapsed": false,
     "input": [
      "#Perfil A-B:\n",
      "\n",
      "#Para fazer tal perfil antes \u00e9 necess\u00e1rio fazer um reta (y=ax + b) que una os pontos A e B, \n",
      "\n",
      "#tg\u03b1 = cateto oposto / cateto adjacente\n",
      "\n",
      "m = (A[1] - B[1])/(A[0] - B[0])\n",
      "\n",
      "#Calculo da Equa\u00e7\u00e3o da Reta: yab \u2013 yA = m (xab \u2013 xA) \n",
      "\n",
      "xab=np.arange(0.5,7,size)\n",
      "\n",
      "yab=m*xab + 10\n",
      "\n",
      "\n",
      "#Tamanho do Perfil A-B:\n",
      "\n",
      "print(m)"
     ],
     "language": "python",
     "metadata": {},
     "outputs": [
      {
       "output_type": "stream",
       "stream": "stdout",
       "text": [
        "-1.38461538462\n"
       ]
      }
     ],
     "prompt_number": 126
    },
    {
     "cell_type": "markdown",
     "metadata": {},
     "source": [
      "<h2>Plotando o perfil A-B com a reta calculada:</h2>"
     ]
    },
    {
     "cell_type": "code",
     "collapsed": false,
     "input": [
      "plt.plot(xab,yab,'--k')\n",
      "plt.plot(A[0],A[1],'or')\n",
      "plt.text(A[0],A[1],'A',fontweight='bold',fontsize=15,verticalalignment='bottom', horizontalalignment='right')\n",
      "plt.plot(B[0],B[1],'or')\n",
      "plt.text(B[0],B[1],'B',fontweight='bold',fontsize=15,verticalalignment='bottom', horizontalalignment='left')\n",
      "plt.xlim(0,8)\n",
      "plt.ylim(0,10)"
     ],
     "language": "python",
     "metadata": {},
     "outputs": [
      {
       "metadata": {},
       "output_type": "pyout",
       "prompt_number": 127,
       "text": [
        "(0, 10)"
       ]
      },
      {
       "metadata": {},
       "output_type": "display_data",
       "png": "[encoded data removed]",
       "text": [
        "<matplotlib.figure.Figure at 0x3719fd0>"
       ]
      }
     ],
     "prompt_number": 127
    },
    {
     "cell_type": "markdown",
     "metadata": {},
     "source": [
      "<h2>Calculando o valor estimado para altitude(z):</h2>"
     ]
    },
    {
     "cell_type": "code",
     "collapsed": false,
     "input": [
      "interpolAB = np.empty_like(xab)\n",
      "dist = np.empty_like(x)\n",
      "nominator = 0\n",
      "denominator = 0\n",
      "for j in xrange(0,len(xab)):\n",
      "    for i in xrange(0,len(x)):\n",
      "        dist[i] = np.sqrt((xab[j]-x[i])**2+(yab[j]-y[i])**2)\n",
      "        nominator = nominator + z[i]/dist[i]**p\n",
      "        denominator = denominator + 1/dist[i]**p\n",
      "    interpolAB[j] = nominator/denominator\n",
      "print(interpolAB)"
     ],
     "language": "python",
     "metadata": {},
     "outputs": [
      {
       "output_type": "stream",
       "stream": "stdout",
       "text": [
        "[  4.60774532   4.8406991    4.96002772   4.99316693   5.00492065\n",
        "   5.02559966   5.07289405   5.17226442   5.29852806   5.38281239\n",
        "   5.44189498   5.5014309    5.56063243   5.62997724   5.79189299\n",
        "   6.54842058   8.1588996    8.26482429   8.29153948   8.31677264\n",
        "   8.34574873   8.38624069   8.49430411   9.24184416  16.6710378\n",
        "  17.12737543  17.15104583  17.1537442   17.15261271  17.14969033\n",
        "  17.14458219  17.13334756  17.10961819  17.08651032  17.07293498\n",
        "  17.05671685  17.01363702  16.91697467  16.8524125   16.82607407\n",
        "  16.8078845   16.79074117  16.77191287  16.73097723  16.43962122\n",
        "   6.4297323    5.78152065   5.76450963   5.76228214   5.76220437\n",
        "   5.76324394   5.76693951   5.78413023   5.88780667   6.00159799\n",
        "   6.02090236   6.02605842   6.02992202   6.03465428   6.03871481\n",
        "   6.04129488   6.04334554   6.04509579   6.04613617   6.04663744]\n"
       ]
      }
     ],
     "prompt_number": 128
    },
    {
     "cell_type": "markdown",
     "metadata": {},
     "source": [
      "<h2>Plotando o gr\u00e1fico do perfil AB:</h2>"
     ]
    },
    {
     "cell_type": "code",
     "collapsed": false,
     "input": [
      "plt.plot(xab,interpolAB,'or',xab,interpolAB,'k',lw=2,markersize=5)\n",
      "plt.xlabel('Posicao (km)')\n",
      "plt.ylabel('Altitude (m)')\n",
      "plt.plot(1.75,7.5,'og')\n",
      "plt.xlim(0,8)\n",
      "plt.ylim(0,20)"
     ],
     "language": "python",
     "metadata": {},
     "outputs": [
      {
       "metadata": {},
       "output_type": "pyout",
       "prompt_number": 129,
       "text": [
        "(0, 20)"
       ]
      },
      {
       "metadata": {},
       "output_type": "display_data",
       "png": "[encoded data removed]",
       "text": [
        "<matplotlib.figure.Figure at 0x3de8410>"
       ]
      }
     ],
     "prompt_number": 129
    }
   ],
   "metadata": {}
  }
 ]
}