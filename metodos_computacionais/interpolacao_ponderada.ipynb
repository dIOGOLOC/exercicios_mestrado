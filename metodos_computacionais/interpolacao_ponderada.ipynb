{
 "metadata": {
  "name": ""
 },
 "nbformat": 3,
 "nbformat_minor": 0,
 "worksheets": [
  {
   "cells": [
    {
     "cell_type": "code",
     "collapsed": false,
     "input": [
      "%pylab inline"
     ],
     "language": "python",
     "metadata": {},
     "outputs": [
      {
       "output_type": "stream",
       "stream": "stdout",
       "text": [
        "Populating the interactive namespace from numpy and matplotlib\n"
       ]
      },
      {
       "output_type": "stream",
       "stream": "stderr",
       "text": [
        "WARNING: pylab import has clobbered these variables: ['dist', 'size']\n",
        "`%pylab --no-import-all` prevents importing * from pylab and numpy\n"
       ]
      }
     ],
     "prompt_number": 93
    },
    {
     "cell_type": "code",
     "collapsed": false,
     "input": [
      "from __future__ import print_function\n",
      "import numpy as np\n",
      "import matplotlib.pyplot as plt\n",
      "from mpl_toolkits.mplot3d import Axes3D"
     ],
     "language": "python",
     "metadata": {},
     "outputs": [],
     "prompt_number": 94
    },
    {
     "cell_type": "markdown",
     "metadata": {},
     "source": [
      "<h1>Lista 2 \u2013 Interpola\u00e7\u00e3o ponderada pelo Inverso da Pot\u00eancia da Dist\u00e2ncia (IPD)</h1>\n",
      "\n",
      "<p>Fa\u00e7a um programa de computador que possibilite gerar perfis (altura X dist\u00e2ncia) sobre a \u00e1rea de interesse usando IPD.</p> \n",
      "\n",
      "<p>Os dados com as alturas est\u00e3o no arquivo texto \u201crelevo.txt\u201d que apresenta 3 colunas:</p>\n",
      "\n",
      "<p>1 coluna = coordenadas cartesianas na dire\u00e7\u00e3o horizontal em km (x)</p>\n",
      "<p>2 coluna= coordenadas cartesianas na dire\u00e7\u00e3o vertical em km (y)</p>\n",
      "<p>3 coluna = valores da altitude em metros</p>\n",
      "\n",
      "<p>a) Gere o perfil de A a B com espa\u00e7amento de 100 m usando interpola\u00e7\u00e3o com pot\u00eancias 1, 2 e 4</p>\n",
      "<p>b) Gere o perfil de C a D com espa\u00e7amento de 100 m usando interpola\u00e7\u00e3o com pot\u00eancias 1, 2 e 4</p>\n",
      "\n",
      "<p>Coordenadas cartesianas dos pontos A, B, C e D.</p>\n",
      "\n",
      "<p>A: x = 0,5 km y = 9,25 km</p>\n",
      "<p>B: x = 7,0 km y = 0,25 km</p>\n",
      "<p>C: x = 0,25 km y = 7,5 km</p>\n",
      "<p>D: x = 7,5 km y = 7,5 km</p>\n",
      "\n",
      "<p>c) Comente os resultados, compare o desempenho da interpola\u00e7\u00e3o com diferentes pot\u00eancias.</p>\n",
      "<p>d) Compare os valores interpolados no ponto onde os perfis se cruzam.</p>"
     ]
    },
    {
     "cell_type": "code",
     "collapsed": false,
     "input": [
      "#Vetores de Par\u00e2metros\n",
      "\n",
      "dados = np.loadtxt('/home/diogo/Dropbox/metodos computacionais/28-11-13/relevo.txt')\n",
      "x = dados[:,0] #coordenadas cartesianas na dire\u00e7\u00e3o horizontal em km (x)\n",
      "y = dados[:,1] #coordenadas cartesianas na dire\u00e7\u00e3o vertical em km (y)\n",
      "z = dados[:,2] #valores da altitude em metros\n",
      "\n",
      "#Coordenadas cartesianas dos pontos A, B, C e D.\n",
      "\n",
      "A = np.array([0.5,9.25])\n",
      "B = np.array([7.0,0.25])\n",
      "C = np.array([0.25,7.5])\n",
      "D = np.array([7.5,7.5])"
     ],
     "language": "python",
     "metadata": {},
     "outputs": [],
     "prompt_number": 95
    },
    {
     "cell_type": "markdown",
     "metadata": {},
     "source": [
      "<h2>N\u00famero da Pot\u00eancia:</h2>"
     ]
    },
    {
     "cell_type": "code",
     "collapsed": false,
     "input": [
      "p=2"
     ],
     "language": "python",
     "metadata": {},
     "outputs": [],
     "prompt_number": 96
    },
    {
     "cell_type": "markdown",
     "metadata": {},
     "source": [
      "<h2>Plotando a malha de dados de altitude e os perfis A-B e C-D</h2>"
     ]
    },
    {
     "cell_type": "code",
     "collapsed": false,
     "input": [
      "plt.plot(x,y,'+b')\n",
      "plt.plot((A[0],B[0]),(A[1],B[1]),'k')\n",
      "plt.plot(C,D,'k')\n",
      "plt.plot(A[0],A[1],'or')\n",
      "plt.text(A[0],A[1],'A',fontweight='bold',fontsize=15,verticalalignment='bottom', horizontalalignment='right')\n",
      "plt.plot(B[0],B[1],'or')\n",
      "plt.text(B[0],B[1],'B',fontweight='bold',fontsize=15,verticalalignment='bottom', horizontalalignment='left')\n",
      "plt.plot(C[0],C[1],'or')\n",
      "plt.text(C[0],C[1],'C',fontweight='bold',fontsize=15,verticalalignment='bottom', horizontalalignment='right')\n",
      "plt.plot(D[0],D[1],'or')\n",
      "plt.text(D[0],D[1],'D',fontweight='bold',fontsize=15,verticalalignment='bottom', horizontalalignment='left')\n",
      "plt.xlim(0,8)\n",
      "plt.ylim(0,10)"
     ],
     "language": "python",
     "metadata": {},
     "outputs": [
      {
       "metadata": {},
       "output_type": "pyout",
       "prompt_number": 97,
       "text": [
        "(0, 10)"
       ]
      },
      {
       "metadata": {},
       "output_type": "display_data",
       "png": "[encoded data removed]",
       "text": [
        "<matplotlib.figure.Figure at 0x4b43ed0>"
       ]
      }
     ],
     "prompt_number": 97
    },
    {
     "cell_type": "markdown",
     "metadata": {},
     "source": [
      "<h2>Fazendo o perfil C-D para interpolar os valores:</h2>"
     ]
    },
    {
     "cell_type": "code",
     "collapsed": false,
     "input": [
      "#Tamanho da malha\n",
      "\n",
      "size=0.1 #Como est\u00e1 em Km ser\u00e1 0.1 km = 100 m\n",
      "\n",
      "#Perfil C-D: \n",
      "\n",
      "xcd = np.arange(C[0],D[0],size)\n",
      "ycd = np.arange(C[1],D[1],size)\n",
      "\n",
      "#Condi\u00e7\u00e3o para n\u00e3o ter um elemento vazio:\n",
      "\n",
      "if xcd.any() <= 0:\n",
      "   xcd = np.ones(1)\n",
      "\n",
      "if ycd.any() <= 0:\n",
      "   ycd = np.ones(1)\n",
      "\n",
      "#Tamanho do Perfil C-D:\n",
      "\n",
      "perfilCD=np.array([shape(xcd)[0],shape(ycd)[0]])"
     ],
     "language": "python",
     "metadata": {},
     "outputs": [],
     "prompt_number": 98
    },
    {
     "cell_type": "markdown",
     "metadata": {},
     "source": [
      "<h2>Calculando o valor estimado para altitude(z) no Perfil C-D:</h2>"
     ]
    },
    {
     "cell_type": "code",
     "collapsed": false,
     "input": [
      "interpolCD = np.zeros(perfilCD)\n",
      "for x in xrange(interpolCD.shape[0]):\n",
      "    for y in xrange(interpolCD.shape[1]):\n",
      "        dist = np.sqrt((x-dados[:,0])**2+(y-dados[:,1])**2)\n",
      "        if 0 in dist:\n",
      "            ind = np.where(dist == 0)\n",
      "            interpolCD[x,y] = dados[ind[0][0],2]\n",
      "        else:\n",
      "            interpolCD[x,y] = np.sum((1/dist**p)*dados[:,2])/np.sum(1/dist**p)"
     ],
     "language": "python",
     "metadata": {},
     "outputs": [],
     "prompt_number": 99
    },
    {
     "cell_type": "markdown",
     "metadata": {},
     "source": [
      "<h2>Plotando os dados calculados para o perfil C-D</h2>"
     ]
    },
    {
     "cell_type": "code",
     "collapsed": false,
     "input": [
      "plt.plot(xcd,interpolCD,'or',xcd,interpolCD,'k',lw=2,markersize=5)\n",
      "plt.xlabel('Posicao (km)')\n",
      "plt.ylabel('Altitude (m)')\n",
      "plt.xlim(0,8)\n",
      "plt.ylim(0,10)"
     ],
     "language": "python",
     "metadata": {},
     "outputs": [
      {
       "metadata": {},
       "output_type": "pyout",
       "prompt_number": 100,
       "text": [
        "(0, 10)"
       ]
      },
      {
       "metadata": {},
       "output_type": "display_data",
       "png": "[encoded data removed]",
       "text": [
        "<matplotlib.figure.Figure at 0x41d63d0>"
       ]
      }
     ],
     "prompt_number": 100
    },
    {
     "cell_type": "markdown",
     "metadata": {},
     "source": [
      "<h2>Fazendo o perfil A-B para interpolar os valores:</h2>"
     ]
    },
    {
     "cell_type": "code",
     "collapsed": false,
     "input": [
      "#Perfil A-B:\n",
      "\n",
      "#Para fazer tal perfil antes \u00e9 necess\u00e1rio fazer um reta (y=ax + b) que una os pontos A e B, \n",
      "\n",
      "#tg\u03b1 = cateto oposto / cateto adjacente\n",
      "\n",
      "m = (A[1] - B[1])/(A[0] - B[0])\n",
      "\n",
      "#Calculo da Equa\u00e7\u00e3o da Reta: yab \u2013 yA = m (xab \u2013 xA) \n",
      "\n",
      "xab=np.arange(0.5,7,0.1)\n",
      "\n",
      "yab=-1.39*xab + 10\n",
      "\n",
      "\n",
      "#Tamanho do Perfil A-B:\n",
      "\n",
      "perfilAB=np.array([xab])\n",
      "print(shape(xab))"
     ],
     "language": "python",
     "metadata": {},
     "outputs": [
      {
       "output_type": "stream",
       "stream": "stdout",
       "text": [
        "(65,)\n"
       ]
      }
     ],
     "prompt_number": 106
    },
    {
     "cell_type": "markdown",
     "metadata": {},
     "source": [
      "<h2>Plotando o perfil A-B com a reta calculada:</h2>"
     ]
    },
    {
     "cell_type": "code",
     "collapsed": false,
     "input": [
      "plt.plot(xab,yab,'--k')\n",
      "plt.plot(A[0],A[1],'or')\n",
      "plt.text(A[0],A[1],'A',fontweight='bold',fontsize=15,verticalalignment='bottom', horizontalalignment='right')\n",
      "plt.plot(B[0],B[1],'or')\n",
      "plt.text(B[0],B[1],'B',fontweight='bold',fontsize=15,verticalalignment='bottom', horizontalalignment='left')\n",
      "plt.xlim(0,8)\n",
      "plt.ylim(0,10)"
     ],
     "language": "python",
     "metadata": {},
     "outputs": [
      {
       "metadata": {},
       "output_type": "pyout",
       "prompt_number": 107,
       "text": [
        "(0, 10)"
       ]
      },
      {
       "metadata": {},
       "output_type": "display_data",
       "png": "[encoded data removed]",
       "text": [
        "<matplotlib.figure.Figure at 0x4b66450>"
       ]
      }
     ],
     "prompt_number": 107
    },
    {
     "cell_type": "markdown",
     "metadata": {},
     "source": [
      "<h2>Calculando o valor estimado para altitude(z):</h2>"
     ]
    },
    {
     "cell_type": "code",
     "collapsed": false,
     "input": [
      "interpolAB = perfilAB.T\n",
      "for x in xrange(interpolAB.shape[0]):\n",
      "    for y in xrange(interpolAB.shape[1]):\n",
      "        dist = np.sqrt((x-dados[:,0])**2+(y-dados[:,1]))\n",
      "        if 0 in dist:\n",
      "            ind = np.where(dist == 0)\n",
      "            interpolAB[x,y] = dados[ind[0][0],2]\n",
      "        else:\n",
      "            interpolAB[x,y] = np.sum(dados[:,2]/(dist**p))/np.sum(1/dist**p)"
     ],
     "language": "python",
     "metadata": {},
     "outputs": [],
     "prompt_number": 108
    },
    {
     "cell_type": "code",
     "collapsed": false,
     "input": [
      "print(interpolAB)"
     ],
     "language": "python",
     "metadata": {},
     "outputs": [
      {
       "output_type": "stream",
       "stream": "stdout",
       "text": [
        "[[  2.        ]\n",
        " [  3.        ]\n",
        " [  2.        ]\n",
        " [  6.        ]\n",
        " [  5.        ]\n",
        " [  5.        ]\n",
        " [ 10.        ]\n",
        " [  9.        ]\n",
        " [  6.        ]\n",
        " [  4.        ]\n",
        " [  1.        ]\n",
        " [  1.        ]\n",
        " [  6.01459388]\n",
        " [  6.4189117 ]\n",
        " [  6.59631058]\n",
        " [  6.70139216]\n",
        " [  6.77221868]\n",
        " [  6.82363972]\n",
        " [  6.86284906]\n",
        " [  6.89381574]\n",
        " [  6.91893091]\n",
        " [  6.93973006]\n",
        " [  6.95724846]\n",
        " [  6.97221147]\n",
        " [  6.98514349]\n",
        " [  6.99643357]\n",
        " [  7.00637674]\n",
        " [  7.015201  ]\n",
        " [  7.02308541]\n",
        " [  7.03017261]\n",
        " [  7.0365777 ]\n",
        " [  7.04239458]\n",
        " [  7.04770066]\n",
        " [  7.05256029]\n",
        " [  7.05702747]\n",
        " [  7.06114779]\n",
        " [  7.06496008]\n",
        " [  7.06849754]\n",
        " [  7.0717888 ]\n",
        " [  7.07485863]\n",
        " [  7.07772859]\n",
        " [  7.08041754]\n",
        " [  7.08294203]\n",
        " [  7.08531666]\n",
        " [  7.08755436]\n",
        " [  7.08966659]\n",
        " [  7.09166361]\n",
        " [  7.09355455]\n",
        " [  7.09534763]\n",
        " [  7.09705023]\n",
        " [  7.09866901]\n",
        " [  7.10021   ]\n",
        " [  7.10167866]\n",
        " [  7.10307994]\n",
        " [  7.10441838]\n",
        " [  7.10569809]\n",
        " [  7.10692284]\n",
        " [  7.10809609]\n",
        " [  7.10922102]\n",
        " [  7.11030054]\n",
        " [  7.11133734]\n",
        " [  7.1123339 ]\n",
        " [  7.11329251]\n",
        " [  7.1142153 ]\n",
        " [  7.11510423]]\n"
       ]
      }
     ],
     "prompt_number": 109
    },
    {
     "cell_type": "markdown",
     "metadata": {},
     "source": [
      "<h2>Plotando o gr\u00e1fico do perfil AB:</h2>"
     ]
    },
    {
     "cell_type": "code",
     "collapsed": false,
     "input": [
      "plt.plot(xab,interpolAB,'or',xab,interpolAB,'k',lw=2,markersize=5)\n",
      "plt.xlim(0,8)\n",
      "plt.ylim(0,10)"
     ],
     "language": "python",
     "metadata": {},
     "outputs": [
      {
       "metadata": {},
       "output_type": "pyout",
       "prompt_number": 110,
       "text": [
        "(0, 10)"
       ]
      },
      {
       "metadata": {},
       "output_type": "display_data",
       "png": "[encoded data removed]",
       "text": [
        "<matplotlib.figure.Figure at 0x447ded0>"
       ]
      }
     ],
     "prompt_number": 110
    },
    {
     "cell_type": "code",
     "collapsed": false,
     "input": [],
     "language": "python",
     "metadata": {},
     "outputs": [],
     "prompt_number": 110
    },
    {
     "cell_type": "code",
     "collapsed": false,
     "input": [],
     "language": "python",
     "metadata": {},
     "outputs": []
    }
   ],
   "metadata": {}
  }
 ]
}