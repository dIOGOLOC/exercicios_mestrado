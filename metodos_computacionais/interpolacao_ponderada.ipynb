{
 "metadata": {
  "name": ""
 },
 "nbformat": 3,
 "nbformat_minor": 0,
 "worksheets": [
  {
   "cells": [
    {
     "cell_type": "code",
     "collapsed": false,
     "input": [
      "%pylab inline"
     ],
     "language": "python",
     "metadata": {},
     "outputs": [
      {
       "output_type": "stream",
       "stream": "stdout",
       "text": [
        "Populating the interactive namespace from numpy and matplotlib\n"
       ]
      },
      {
       "output_type": "stream",
       "stream": "stderr",
       "text": [
        "WARNING: pylab import has clobbered these variables: ['dist', 'size']\n",
        "`%pylab --no-import-all` prevents importing * from pylab and numpy\n"
       ]
      }
     ],
     "prompt_number": 147
    },
    {
     "cell_type": "code",
     "collapsed": false,
     "input": [
      "from __future__ import print_function\n",
      "import numpy as np\n",
      "import matplotlib.pyplot as plt\n",
      "from mpl_toolkits.mplot3d import Axes3D as ax"
     ],
     "language": "python",
     "metadata": {},
     "outputs": [],
     "prompt_number": 148
    },
    {
     "cell_type": "markdown",
     "metadata": {},
     "source": [
      "<h1>Lista 2 \u2013 Interpola\u00e7\u00e3o ponderada pelo Inverso da Pot\u00eancia da Dist\u00e2ncia (IPD)</h1>\n"
     ]
    },
    {
     "cell_type": "code",
     "collapsed": false,
     "input": [
      "#Vetores de Par\u00e2metros\n",
      "\n",
      "dados = np.loadtxt('/home/diogo/Dropbox/metodos computacionais/28-11-13/relevo.txt')\n",
      "x = dados[:,0] #coordenadas cartesianas na dire\u00e7\u00e3o horizontal em km (x)\n",
      "y = dados[:,1] #coordenadas cartesianas na dire\u00e7\u00e3o vertical em km (y)\n",
      "z = dados[:,2] #valores da altitude em metros\n",
      "\n",
      "#Coordenadas cartesianas dos pontos A, B, C e D.\n",
      "\n",
      "A = 0.25,7\n",
      "B = 9.25,0.5\n",
      "C = 0.25,7.5\n",
      "D = 7.5,7.5\n",
      "\n",
      "#N\u00famero da Pot\u00eancia:\n",
      "\n",
      "p=2\n",
      "\n",
      "#Tamanho da malha\n",
      "\n",
      "size=0.1 #Como est\u00e1 em Km ser\u00e1 0.1 km = 100 m"
     ],
     "language": "python",
     "metadata": {},
     "outputs": [],
     "prompt_number": 149
    },
    {
     "cell_type": "markdown",
     "metadata": {},
     "source": [
      "<h2>Plotando a malha de dados do relevo</h2>"
     ]
    },
    {
     "cell_type": "code",
     "collapsed": false,
     "input": [
      "plt.plot(x,y,'+b')\n",
      "plt.plot(A,B,'k',C,D,'k') \n",
      "plt.plot(A,B,'or',C,D,'or') "
     ],
     "language": "python",
     "metadata": {},
     "outputs": [
      {
       "metadata": {},
       "output_type": "pyout",
       "prompt_number": 155,
       "text": [
        "[<matplotlib.lines.Line2D at 0x75e9250>,\n",
        " <matplotlib.lines.Line2D at 0x7608550>]"
       ]
      },
      {
       "metadata": {},
       "output_type": "display_data",
       "png": "[encoded data removed]",
       "text": [
        "<matplotlib.figure.Figure at 0x6da2110>"
       ]
      }
     ],
     "prompt_number": 155
    },
    {
     "cell_type": "markdown",
     "metadata": {},
     "source": [
      "<h2>Calculando a dist\u00e2ncia</h2>"
     ]
    },
    {
     "cell_type": "code",
     "collapsed": false,
     "input": [
      "#Montando um malha calculada:\n",
      "\n",
      "xc = np.arange(C[0],D[0],size)\n",
      "yc = np.arange(C[1],D[1],size)\n",
      "if xc and yc == 0:\n",
      "    xc=C\n",
      "    yc=C\n",
      "\n",
      "#Interador\n",
      "\n",
      "int=np.array([shape(xc),shape(yc)])\n",
      "print(int)\n",
      "\n"
     ],
     "language": "python",
     "metadata": {},
     "outputs": [
      {
       "ename": "ValueError",
       "evalue": "The truth value of an array with more than one element is ambiguous. Use a.any() or a.all()",
       "output_type": "pyerr",
       "traceback": [
        "\u001b[1;31m---------------------------------------------------------------------------\u001b[0m\n\u001b[1;31mValueError\u001b[0m                                Traceback (most recent call last)",
        "\u001b[1;32m<ipython-input-161-b770acd849b2>\u001b[0m in \u001b[0;36m<module>\u001b[1;34m()\u001b[0m\n\u001b[0;32m      3\u001b[0m \u001b[0mxc\u001b[0m \u001b[1;33m=\u001b[0m \u001b[0mnp\u001b[0m\u001b[1;33m.\u001b[0m\u001b[0marange\u001b[0m\u001b[1;33m(\u001b[0m\u001b[0mC\u001b[0m\u001b[1;33m[\u001b[0m\u001b[1;36m0\u001b[0m\u001b[1;33m]\u001b[0m\u001b[1;33m,\u001b[0m\u001b[0mD\u001b[0m\u001b[1;33m[\u001b[0m\u001b[1;36m0\u001b[0m\u001b[1;33m]\u001b[0m\u001b[1;33m,\u001b[0m\u001b[0msize\u001b[0m\u001b[1;33m)\u001b[0m\u001b[1;33m\u001b[0m\u001b[0m\n\u001b[0;32m      4\u001b[0m \u001b[0myc\u001b[0m \u001b[1;33m=\u001b[0m \u001b[0mnp\u001b[0m\u001b[1;33m.\u001b[0m\u001b[0marange\u001b[0m\u001b[1;33m(\u001b[0m\u001b[0mC\u001b[0m\u001b[1;33m[\u001b[0m\u001b[1;36m1\u001b[0m\u001b[1;33m]\u001b[0m\u001b[1;33m,\u001b[0m\u001b[0mD\u001b[0m\u001b[1;33m[\u001b[0m\u001b[1;36m1\u001b[0m\u001b[1;33m]\u001b[0m\u001b[1;33m,\u001b[0m\u001b[0msize\u001b[0m\u001b[1;33m)\u001b[0m\u001b[1;33m\u001b[0m\u001b[0m\n\u001b[1;32m----> 5\u001b[1;33m \u001b[1;32mif\u001b[0m \u001b[0mxc\u001b[0m \u001b[1;32mand\u001b[0m \u001b[0myc\u001b[0m \u001b[1;33m==\u001b[0m \u001b[1;36m0\u001b[0m\u001b[1;33m:\u001b[0m\u001b[1;33m\u001b[0m\u001b[0m\n\u001b[0m\u001b[0;32m      6\u001b[0m     \u001b[0mxc\u001b[0m\u001b[1;33m=\u001b[0m\u001b[0mC\u001b[0m\u001b[1;33m.\u001b[0m\u001b[0mindex\u001b[0m\u001b[1;33m\u001b[0m\u001b[0m\n\u001b[0;32m      7\u001b[0m     \u001b[0myc\u001b[0m\u001b[1;33m=\u001b[0m\u001b[0mC\u001b[0m\u001b[1;33m.\u001b[0m\u001b[0mindex\u001b[0m\u001b[1;33m\u001b[0m\u001b[0m\n",
        "\u001b[1;31mValueError\u001b[0m: The truth value of an array with more than one element is ambiguous. Use a.any() or a.all()"
       ]
      }
     ],
     "prompt_number": 161
    },
    {
     "cell_type": "code",
     "collapsed": false,
     "input": [],
     "language": "python",
     "metadata": {},
     "outputs": [],
     "prompt_number": 133
    },
    {
     "cell_type": "code",
     "collapsed": false,
     "input": [
      "#Calculando a dist\u00e2ncia:\n",
      "\n",
      "resultado = np.zeros_like(dados)\n",
      "for x in xrange(resultado.shape[0]):\n",
      "        for y in xrange(resultado.shape[1]):\n",
      "            dist = np.sqrt((xc-x)**2+(yc-y)**2) \n",
      "\n",
      "#Trocando valores iguais a zero por um n\u00famero muito pequeno:\n",
      "\n",
      "ind = np.where(dist == 0)\n",
      "dist[ind[0][:]] = np.exp(-44)\n",
      "print(dist)"
     ],
     "language": "python",
     "metadata": {},
     "outputs": [
      {
       "output_type": "stream",
       "stream": "stdout",
       "text": [
        "[ 8.96172416  8.87538732  8.78934013  8.70359121  8.61814945  8.53302408\n",
        "  8.44822467  8.36376112  8.27964371  8.19588311  8.11249037  8.02947694\n",
        "  7.94685472  7.86463604  7.78283367  7.7014609   7.62053148  7.54005968\n",
        "  7.46006032  7.38054876  7.30154093  7.22305337  7.14510322  7.06770826\n",
        "  6.99088693  6.91465834  6.83904233  6.76405943  6.68973094  6.6160789\n",
        "  6.54312616  6.47089638  6.39941404  6.32870445  6.25879381  6.1897092\n",
        "  6.12147858  6.05413082  5.98769572  5.92220398  5.85768726  5.79417811\n",
        "  5.73171004  5.67031745  5.61003565  5.55090083  5.49295003  5.43622111\n",
        "  5.38075274  5.32658427  5.27375578  5.22230792  5.17228189  5.12371935\n",
        "  5.07666229  5.03115295  4.9872337   4.94494692  4.90433482  4.86543934\n",
        "  4.82830198  4.79296359  4.75946426  4.72784306  4.69813793  4.67038542\n",
        "  4.64462054  4.62087654  4.59918471  4.57957422  4.5620719   4.5467021\n",
        "  4.53348652]\n"
       ]
      }
     ],
     "prompt_number": 134
    },
    {
     "cell_type": "markdown",
     "metadata": {},
     "source": [
      "<h2>Calculando o peso</h2>"
     ]
    },
    {
     "cell_type": "code",
     "collapsed": false,
     "input": [
      "for i in xrange(int):\n",
      "    resultado = (np.sum((1/dist**p)*z[i]))/(np.sum(1/dist**p))\n",
      "    soma = soma+1/dist^power;\n",
      "    resultado=v/soma;\n",
      "print(resultado)"
     ],
     "language": "python",
     "metadata": {},
     "outputs": [
      {
       "ename": "NameError",
       "evalue": "name 'soma' is not defined",
       "output_type": "pyerr",
       "traceback": [
        "\u001b[1;31m---------------------------------------------------------------------------\u001b[0m\n\u001b[1;31mNameError\u001b[0m                                 Traceback (most recent call last)",
        "\u001b[1;32m<ipython-input-138-f68bfe80d743>\u001b[0m in \u001b[0;36m<module>\u001b[1;34m()\u001b[0m\n\u001b[0;32m      1\u001b[0m \u001b[1;32mfor\u001b[0m \u001b[0mi\u001b[0m \u001b[1;32min\u001b[0m \u001b[0mxrange\u001b[0m\u001b[1;33m(\u001b[0m\u001b[0mint\u001b[0m\u001b[1;33m)\u001b[0m\u001b[1;33m:\u001b[0m\u001b[1;33m\u001b[0m\u001b[0m\n\u001b[0;32m      2\u001b[0m     \u001b[0mresultado\u001b[0m \u001b[1;33m=\u001b[0m \u001b[1;33m(\u001b[0m\u001b[0mnp\u001b[0m\u001b[1;33m.\u001b[0m\u001b[0msum\u001b[0m\u001b[1;33m(\u001b[0m\u001b[1;33m(\u001b[0m\u001b[1;36m1\u001b[0m\u001b[1;33m/\u001b[0m\u001b[0mdist\u001b[0m\u001b[1;33m**\u001b[0m\u001b[0mp\u001b[0m\u001b[1;33m)\u001b[0m\u001b[1;33m*\u001b[0m\u001b[0mz\u001b[0m\u001b[1;33m[\u001b[0m\u001b[0mi\u001b[0m\u001b[1;33m]\u001b[0m\u001b[1;33m)\u001b[0m\u001b[1;33m)\u001b[0m\u001b[1;33m/\u001b[0m\u001b[1;33m(\u001b[0m\u001b[0mnp\u001b[0m\u001b[1;33m.\u001b[0m\u001b[0msum\u001b[0m\u001b[1;33m(\u001b[0m\u001b[1;36m1\u001b[0m\u001b[1;33m/\u001b[0m\u001b[0mdist\u001b[0m\u001b[1;33m**\u001b[0m\u001b[0mp\u001b[0m\u001b[1;33m)\u001b[0m\u001b[1;33m)\u001b[0m\u001b[1;33m\u001b[0m\u001b[0m\n\u001b[1;32m----> 3\u001b[1;33m     \u001b[0msoma\u001b[0m \u001b[1;33m=\u001b[0m \u001b[0msoma\u001b[0m\u001b[1;33m+\u001b[0m\u001b[1;36m1\u001b[0m\u001b[1;33m/\u001b[0m\u001b[0mdist\u001b[0m\u001b[1;33m^\u001b[0m\u001b[0mpower\u001b[0m\u001b[1;33m;\u001b[0m\u001b[1;33m\u001b[0m\u001b[0m\n\u001b[0m\u001b[0;32m      4\u001b[0m     \u001b[0mresultado\u001b[0m\u001b[1;33m=\u001b[0m\u001b[0mv\u001b[0m\u001b[1;33m/\u001b[0m\u001b[0msoma\u001b[0m\u001b[1;33m;\u001b[0m\u001b[1;33m\u001b[0m\u001b[0m\n\u001b[0;32m      5\u001b[0m \u001b[1;32mprint\u001b[0m\u001b[1;33m(\u001b[0m\u001b[0mresultado\u001b[0m\u001b[1;33m)\u001b[0m\u001b[1;33m\u001b[0m\u001b[0m\n",
        "\u001b[1;31mNameError\u001b[0m: name 'soma' is not defined"
       ]
      }
     ],
     "prompt_number": 138
    },
    {
     "cell_type": "markdown",
     "metadata": {},
     "source": [
      "<h2>Plotando os dados do relevo em um mapa de contorno</h2>"
     ]
    },
    {
     "cell_type": "code",
     "collapsed": false,
     "input": [
      "resultado = np.zeros(blocos)\n",
      "    for x in xrange(resultado.shape[0]):\n",
      "        for y in xrange(resultado.shape[1]):\n",
      "             dist = np.sqrt((x-dados[:,0])**2+(y-dados[:,1])**2)\n",
      "             if 0 in dist:\n",
      "                 ind = np.where(dist == 0)\n",
      "                 resultado[x,y] = dados[ind[0][0],2]\n",
      "             else:\n",
      "                 resultado[x,y] = np.sum((1/dist**p)*dados[:,2])/np.sum(1/dist**p)"
     ],
     "language": "python",
     "metadata": {},
     "outputs": [],
     "prompt_number": 155
    },
    {
     "cell_type": "markdown",
     "metadata": {},
     "source": [
      "<h2>Matriz Sensibilidade - Preenchida com as derivadas em rela\u00e7\u00e3o a a1 e lambda1:</h2>"
     ]
    },
    {
     "cell_type": "code",
     "collapsed": false,
     "input": [
      "for i in range(max_int):\n",
      "      fi0=fi\n",
      "      A,B,C=p\n",
      "      G[:,0]=np.ones(N)\n",
      "      G[:,1]=-(C*m-B)*np.exp(C*m-B)\n",
      "      hessian=np.dot(G.T,G)\n",
      "      gradient=np.dot(G.T,(d-d0))\n",
      "      print(hessian,p)\n",
      "      for step in xrange(max_passos):\n",
      "      hessian[diag,diag] += lamb\n",
      "      newp = p + np.linalg.solve(hessian, gradient)\n",
      "      A,B,C=newp\n",
      "      newd0=A+np.exp(C*m-B)\n",
      "      newfi=norm(newd0-d)**2\n",
      "      if newfi >= fi0:\n",
      "          hessian[diag,diag] -= lamb\n",
      "      if lamb < 10**15:\n",
      "      lamb *= dlamb\n",
      "      else:\n",
      "      if lamb > 10**-15:\n",
      "      lamb /= float(dlamb)\n",
      "      p=newp\n",
      "      fi=newfi\n",
      "      d0=newd0\n",
      "      if abs(fi-fi0)/float(fi0) < tol:\n",
      "      print(abs(fi-fi0)/float(fi0))\n",
      "      break\n",
      "      print(i)"
     ],
     "language": "python",
     "metadata": {},
     "outputs": []
    }
   ],
   "metadata": {}
  }
 ]
}