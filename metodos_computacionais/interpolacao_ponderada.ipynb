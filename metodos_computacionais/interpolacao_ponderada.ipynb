{
 "metadata": {
  "name": ""
 },
 "nbformat": 3,
 "nbformat_minor": 0,
 "worksheets": [
  {
   "cells": [
    {
     "cell_type": "code",
     "collapsed": false,
     "input": [
      "%pylab inline"
     ],
     "language": "python",
     "metadata": {},
     "outputs": [
      {
       "output_type": "stream",
       "stream": "stdout",
       "text": [
        "Populating the interactive namespace from numpy and matplotlib\n"
       ]
      }
     ],
     "prompt_number": 77
    },
    {
     "cell_type": "code",
     "collapsed": false,
     "input": [
      "from __future__ import print_function\n",
      "import numpy as np\n",
      "import matplotlib.pyplot as plt"
     ],
     "language": "python",
     "metadata": {},
     "outputs": [],
     "prompt_number": 78
    },
    {
     "cell_type": "markdown",
     "metadata": {},
     "source": [
      "<h1>Lista 2 \u2013 Interpola\u00e7\u00e3o ponderada pelo Inverso da Pot\u00eancia da Dist\u00e2ncia (IPD)</h1>\n"
     ]
    },
    {
     "cell_type": "code",
     "collapsed": false,
     "input": [
      "#Vetores de Par\u00e2metros\n",
      "\n",
      "dados = np.loadtxt('/home/diogo/Dropbox/metodos computacionais/28-11-13/relevo.txt')\n",
      "x = dados[:,0] #coordenadas cartesianas na dire\u00e7\u00e3o horizontal em km (x)\n",
      "y = dados[:,1] #coordenadas cartesianas na dire\u00e7\u00e3o vertical em km (y)\n",
      "z = dados[:,2] #valores da altitude em metros\n",
      "\n",
      "#Coordenadas cartesianas dos pontos A, B, C e D.\n",
      "\n",
      "A = np.array([0.5,9.25])\n",
      "B = np.array([7.0,0.25])\n",
      "C = np.array([0.25,7.5])\n",
      "D = np.array([7.5,7.5])"
     ],
     "language": "python",
     "metadata": {},
     "outputs": [],
     "prompt_number": 79
    },
    {
     "cell_type": "markdown",
     "metadata": {},
     "source": [
      "<h2>Plotando a malha de dados do relevo e os perfis A-B e C-D</h2>"
     ]
    },
    {
     "cell_type": "code",
     "collapsed": false,
     "input": [
      "plt.plot(x,y,'+b')\n",
      "plt.plot((A[0],B[0]),(A[1],B[1]),'k')\n",
      "plt.plot(C,D,'k')\n",
      "plt.plot(A[0],A[1],'or')\n",
      "plt.text(A[0],A[1],'A',fontweight='bold',fontsize=15,verticalalignment='bottom', horizontalalignment='right')\n",
      "plt.plot(B[0],B[1],'or')\n",
      "plt.text(B[0],B[1],'B',fontweight='bold',fontsize=15,verticalalignment='bottom', horizontalalignment='left')\n",
      "plt.plot(C[0],C[1],'or')\n",
      "plt.text(C[0],C[1],'C',fontweight='bold',fontsize=15,verticalalignment='bottom', horizontalalignment='right')\n",
      "plt.plot(D[0],D[1],'or')\n",
      "plt.text(D[0],D[1],'D',fontweight='bold',fontsize=15,verticalalignment='bottom', horizontalalignment='left')\n",
      "plt.xlim(0,8)\n",
      "plt.ylim(0,10)"
     ],
     "language": "python",
     "metadata": {},
     "outputs": [
      {
       "metadata": {},
       "output_type": "pyout",
       "prompt_number": 80,
       "text": [
        "(0, 10)"
       ]
      },
      {
       "metadata": {},
       "output_type": "display_data",
       "png": "[encoded data removed]",
       "text": [
        "<matplotlib.figure.Figure at 0x5b69dd0>"
       ]
      }
     ],
     "prompt_number": 80
    },
    {
     "cell_type": "markdown",
     "metadata": {},
     "source": [
      "<h2>Fazendo o perfil C-D para interpolar os valores:</h2>"
     ]
    },
    {
     "cell_type": "code",
     "collapsed": false,
     "input": [
      "#Tamanho da malha\n",
      "\n",
      "size=0.1 #Como est\u00e1 em Km ser\u00e1 0.1 km = 100 m\n",
      "\n",
      "#Perfil C-D: \n",
      "\n",
      "xc = np.arange(C[0],D[0],size)\n",
      "yc = np.arange(C[1],D[1],size)\n",
      "\n",
      "#Condi\u00e7\u00e3o para n\u00e3o tem um elemento vazio:\n",
      "\n",
      "if xc.any() <= 0:\n",
      "   xc = np.ones(1)\n",
      "\n",
      "if yc.any() <= 0:\n",
      "   yc = np.ones(1)\n",
      "\n",
      "#Tamanho do Perfil:\n",
      "\n",
      "perfil=np.array([shape(xc)[0],shape(yc)[0]])\n",
      "print(perfil)"
     ],
     "language": "python",
     "metadata": {},
     "outputs": [
      {
       "output_type": "stream",
       "stream": "stdout",
       "text": [
        "[73  1]\n"
       ]
      }
     ],
     "prompt_number": 81
    },
    {
     "cell_type": "markdown",
     "metadata": {},
     "source": [
      "<h2>N\u00famero da Pot\u00eancia:</h2>"
     ]
    },
    {
     "cell_type": "code",
     "collapsed": false,
     "input": [
      "p=1"
     ],
     "language": "python",
     "metadata": {},
     "outputs": [],
     "prompt_number": 85
    },
    {
     "cell_type": "markdown",
     "metadata": {},
     "source": [
      "<h2>Calculando o valor estimado para altitude(z):</h2>"
     ]
    },
    {
     "cell_type": "code",
     "collapsed": false,
     "input": [
      "interpol = np.zeros(perfil)\n",
      "for x in xrange(interpol.shape[0]):\n",
      "    for y in xrange(interpol.shape[1]):\n",
      "        dist = np.sqrt((x-dados[:,0])**2+(y-dados[:,1])**2)\n",
      "        if 0 in dist:\n",
      "            ind = np.where(dist == 0)\n",
      "            interpol[x,y] = dados[ind[0][0],2]\n",
      "        else:\n",
      "            interpol[x,y] = np.sum((1/dist**p)*dados[:,2])/np.sum(1/dist**p)\n",
      "            \n",
      "print(shape(interpol))"
     ],
     "language": "python",
     "metadata": {},
     "outputs": [
      {
       "output_type": "stream",
       "stream": "stdout",
       "text": [
        "(73, 1)\n"
       ]
      }
     ],
     "prompt_number": 86
    },
    {
     "cell_type": "markdown",
     "metadata": {},
     "source": [
      "<h2>Plotando os dados calculados para o perfil C-D</h2>"
     ]
    },
    {
     "cell_type": "code",
     "collapsed": false,
     "input": [
      "plt.plot(xc,interpol,'or',xc,interpol,'k',lw=2,markersize=5)\n",
      "plt.axis('normal')\n",
      "plt.xlabel('Posicao (km)')\n",
      "plt.ylabel('Altitude (m)')"
     ],
     "language": "python",
     "metadata": {},
     "outputs": [
      {
       "metadata": {},
       "output_type": "pyout",
       "prompt_number": 87,
       "text": [
        "<matplotlib.text.Text at 0x5abb510>"
       ]
      },
      {
       "metadata": {},
       "output_type": "display_data",
       "png": "[encoded data removed]",
       "text": [
        "<matplotlib.figure.Figure at 0x5499090>"
       ]
      }
     ],
     "prompt_number": 87
    },
    {
     "cell_type": "markdown",
     "metadata": {},
     "source": [
      "<h2>Fazendo o perfil A-B para interpolar os valores:</h2>"
     ]
    },
    {
     "cell_type": "code",
     "collapsed": false,
     "input": [
      "#Tamanho da malha\n",
      "\n",
      "size=0.1 #Como est\u00e1 em Km ser\u00e1 0.1 km = 100 m\n",
      "\n",
      "#Perfil A-B:\n",
      "\n",
      "#Para fazer tal perfil antes necessita-se de fazer um reta (y=ax + b) que una os pontos A e B:\n",
      "\n",
      "\n"
     ],
     "language": "python",
     "metadata": {},
     "outputs": []
    }
   ],
   "metadata": {}
  }
 ]
}