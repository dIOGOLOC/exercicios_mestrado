{
 "metadata": {
  "name": ""
 },
 "nbformat": 3,
 "nbformat_minor": 0,
 "worksheets": [
  {
   "cells": [
    {
     "cell_type": "code",
     "collapsed": false,
     "input": [
      "%pylab inline"
     ],
     "language": "python",
     "metadata": {},
     "outputs": [
      {
       "output_type": "stream",
       "stream": "stdout",
       "text": [
        "Populating the interactive namespace from numpy and matplotlib\n"
       ]
      }
     ],
     "prompt_number": 17
    },
    {
     "cell_type": "code",
     "collapsed": false,
     "input": [
      "from __future__ import print_function\n",
      "import numpy as np\n",
      "import matplotlib.pyplot as plt"
     ],
     "language": "python",
     "metadata": {},
     "outputs": [],
     "prompt_number": 18
    },
    {
     "cell_type": "code",
     "collapsed": false,
     "input": [
      "dados=np.array([[1,1.10,0.10],[2,1.00,0.10],[3,1.20,0.11],[4,1.36,0.12],[5,1.20,0.14],[6,1.55,0.16],[7,2.00,0.19],[8,2.14,0.21],\n",
      "       [9,2.11,0.24],[10,2.40,0.26],[11,2.61,0.28],[12,3.13,0.29],[13,3.00,0.30],[14,2.80,0.30],[15,2.71,0.29],[16,3.21,0.28],\n",
      "       [17,2.41,0.27],[18,2.51,0.25],[19,2.25,0.22],[20,2.11,0.20]])\n",
      "dados=dados.T"
     ],
     "language": "python",
     "metadata": {},
     "outputs": [],
     "prompt_number": 19
    },
    {
     "cell_type": "code",
     "collapsed": false,
     "input": [
      "print(dados)"
     ],
     "language": "python",
     "metadata": {},
     "outputs": [
      {
       "output_type": "stream",
       "stream": "stdout",
       "text": [
        "[[  1.     2.     3.     4.     5.     6.     7.     8.     9.    10.    11.\n",
        "   12.    13.    14.    15.    16.    17.    18.    19.    20.  ]\n",
        " [  1.1    1.     1.2    1.36   1.2    1.55   2.     2.14   2.11   2.4\n",
        "    2.61   3.13   3.     2.8    2.71   3.21   2.41   2.51   2.25   2.11]\n",
        " [  0.1    0.1    0.11   0.12   0.14   0.16   0.19   0.21   0.24   0.26\n",
        "    0.28   0.29   0.3    0.3    0.29   0.28   0.27   0.25   0.22   0.2 ]]\n"
       ]
      }
     ],
     "prompt_number": 20
    },
    {
     "cell_type": "code",
     "collapsed": false,
     "input": [
      "x=dados[0]\n",
      "y=dados[1]\n",
      "sigma=dados[2]\n",
      "\n",
      "print(x.shape)\n",
      "print(y.shape)\n",
      "print(sigma.shape)"
     ],
     "language": "python",
     "metadata": {},
     "outputs": [
      {
       "output_type": "stream",
       "stream": "stdout",
       "text": [
        "(20,)\n",
        "(20,)\n",
        "(20,)\n"
       ]
      }
     ],
     "prompt_number": 21
    },
    {
     "cell_type": "code",
     "collapsed": false,
     "input": [
      "#Plotando o gr\u00e1fico com as barras de erro:\n",
      "\n",
      "plt.errorbar(x,y,yerr=sigma,fmt='or')"
     ],
     "language": "python",
     "metadata": {},
     "outputs": [
      {
       "metadata": {},
       "output_type": "pyout",
       "prompt_number": 22,
       "text": [
        "<Container object of 3 artists>"
       ]
      },
      {
       "metadata": {},
       "output_type": "display_data",
       "png": "[encoded data removed]",
       "text": [
        "<matplotlib.figure.Figure at 0x39d53d0>"
       ]
      }
     ],
     "prompt_number": 22
    },
    {
     "cell_type": "code",
     "collapsed": false,
     "input": [
      "#Ajuste polinomial de 1\u00ba grau(y=ax+b):\n",
      "\n",
      "#Matriz Sensibilidade:\n",
      "\n",
      "A1=np.array([(x),(np.ones(20))]).T\n",
      "\n",
      "#Matriz Peso\n",
      "\n",
      "W=np.diag(1/sigma**2)"
     ],
     "language": "python",
     "metadata": {},
     "outputs": [],
     "prompt_number": 25
    },
    {
     "cell_type": "code",
     "collapsed": false,
     "input": [
      "#Calculo do Ajuste polinomial de 1\u00ba ordem:\n",
      "          \n",
      "p1=np.linalg.solve(np.dot(A1.T,np.dot(W,A1)),np.dot(A1.T,np.dot(W,y.T)))\n",
      "\n",
      "print(p1)\n",
      "\n",
      "yc1=p1[0]*x+p1[1]\n",
      "print(yc1)"
     ],
     "language": "python",
     "metadata": {},
     "outputs": [
      {
       "output_type": "stream",
       "stream": "stdout",
       "text": [
        "[ 0.09554101  0.98890697]\n",
        "[ 1.08444798  1.17998899  1.27553     1.37107101  1.46661202  1.56215303\n",
        "  1.65769404  1.75323505  1.84877606  1.94431707  2.03985808  2.13539909\n",
        "  2.2309401   2.32648111  2.42202212  2.51756313  2.61310414  2.70864514\n",
        "  2.80418615  2.89972716]\n"
       ]
      }
     ],
     "prompt_number": 26
    },
    {
     "cell_type": "code",
     "collapsed": false,
     "input": [
      "#Plotando o Ajuste Poninomial de 1\u00ba ordem:\n",
      "\n",
      "plt.errorbar(x,y,yerr=sigma,fmt='or')\n",
      "plt.plot(x,yc1,'--g')\n",
      "plt.legend(('dados','1 ordem'),loc='upper left')"
     ],
     "language": "python",
     "metadata": {},
     "outputs": [
      {
       "metadata": {},
       "output_type": "pyout",
       "prompt_number": 28,
       "text": [
        "<matplotlib.legend.Legend at 0x40189d0>"
       ]
      },
      {
       "metadata": {},
       "output_type": "display_data",
       "png": "[encoded data removed]",
       "text": [
        "<matplotlib.figure.Figure at 0x3df59d0>"
       ]
      }
     ],
     "prompt_number": 28
    },
    {
     "cell_type": "code",
     "collapsed": false,
     "input": [
      "#Ajuste polinomial de 2\u00ba grau(y=ax\u00b2+bx+c):\n",
      "\n",
      "#Matriz Sensibilidade:\n",
      "\n",
      "A2=np.array([(x**2),(x),(np.ones(20))]).T"
     ],
     "language": "python",
     "metadata": {},
     "outputs": [],
     "prompt_number": 29
    },
    {
     "cell_type": "code",
     "collapsed": false,
     "input": [
      "#Calculo do Ajuste polinomial de 2\u00ba ordem:\n",
      "\n",
      "p2=np.linalg.solve(np.dot(A2.T,np.dot(W,A2)),np.dot(A2.T,np.dot(W,y.T)))\n",
      "\n",
      "print(p2)\n",
      "\n",
      "yc2=p2[0]*x**2+p2[1]*x+p2[2]\n",
      "print(yc2)"
     ],
     "language": "python",
     "metadata": {},
     "outputs": [
      {
       "output_type": "stream",
       "stream": "stdout",
       "text": [
        "[-0.00781545  0.24711767  0.59045865]\n",
        "[ 0.82976086  1.05343218  1.2614726   1.45388213  1.63066075  1.79180848\n",
        "  1.93732531  2.06721124  2.18146627  2.28009041  2.36308365  2.43044599\n",
        "  2.48217743  2.51827797  2.53874762  2.54358637  2.53279422  2.50637117\n",
        "  2.46431722  2.40663238]\n"
       ]
      }
     ],
     "prompt_number": 31
    },
    {
     "cell_type": "code",
     "collapsed": false,
     "input": [
      "#Plotando o Ajuste Poninomial de 2\u00ba ordem:\n",
      "\n",
      "plt.errorbar(x,y,yerr=sigma,fmt='or')\n",
      "plt.plot(x,yc2,'--b')\n",
      "plt.legend(('dados','2 ordem'),loc='upper left')"
     ],
     "language": "python",
     "metadata": {},
     "outputs": [
      {
       "metadata": {},
       "output_type": "pyout",
       "prompt_number": 32,
       "text": [
        "<matplotlib.legend.Legend at 0x4053a90>"
       ]
      },
      {
       "metadata": {},
       "output_type": "display_data",
       "png": "[encoded data removed]",
       "text": [
        "<matplotlib.figure.Figure at 0x39dafd0>"
       ]
      }
     ],
     "prompt_number": 32
    },
    {
     "cell_type": "code",
     "collapsed": false,
     "input": [
      "#Ajuste polinomial de 3\u00ba grau(y=ax\u00b3+bx\u00b2+cx+d):\n",
      "\n",
      "#Matriz Sensibilidade:\n",
      "\n",
      "A3=np.array([(x**3),(x**2),(x),(np.ones(20))]).T"
     ],
     "language": "python",
     "metadata": {},
     "outputs": [],
     "prompt_number": 33
    },
    {
     "cell_type": "code",
     "collapsed": false,
     "input": [
      "#Calculo do Ajuste polinomial de 3\u00ba ordem:\n",
      "\n",
      "p3=np.linalg.solve(np.dot(A3.T,np.dot(W,A3)),np.dot(A3.T,np.dot(W,y.T)))\n",
      "\n",
      "print(p3)\n",
      "\n",
      "yc3=p3[0]*x**3+p3[1]*x**2+p3[2]*x+p3[3]\n",
      "print(yc3)"
     ],
     "language": "python",
     "metadata": {},
     "outputs": [
      {
       "output_type": "stream",
       "stream": "stdout",
       "text": [
        "[-0.00144292  0.03433357 -0.06603399  1.0838585 ]\n",
        "[ 1.05071515  1.07758139  1.15579966  1.27671242  1.43166213  1.61199122\n",
        "  1.80904216  2.0141574   2.21867938  2.41395057  2.5913134   2.74211034\n",
        "  2.85768383  2.92937633  2.94853028  2.90648815  2.79459237  2.60418541\n",
        "  2.32660972  1.95320774]\n"
       ]
      }
     ],
     "prompt_number": 35
    },
    {
     "cell_type": "code",
     "collapsed": false,
     "input": [
      "#Plotando o Ajuste Poninomial de 3\u00ba ordem:\n",
      "\n",
      "plt.errorbar(x,y,yerr=sigma,fmt='or')\n",
      "plt.plot(x,yc3,'--m')\n",
      "plt.legend(('dados','3 ordem'),loc='upper left')"
     ],
     "language": "python",
     "metadata": {},
     "outputs": [
      {
       "metadata": {},
       "output_type": "pyout",
       "prompt_number": 36,
       "text": [
        "<matplotlib.legend.Legend at 0x4287a50>"
       ]
      },
      {
       "metadata": {},
       "output_type": "display_data",
       "png": "[encoded data removed]",
       "text": [
        "<matplotlib.figure.Figure at 0x425e2d0>"
       ]
      }
     ],
     "prompt_number": 36
    },
    {
     "cell_type": "code",
     "collapsed": false,
     "input": [
      "#C\u00e1lculo dos Par\u00e2metros FIT, Zrms e Rrms para os graus dos polin\u00f4mios:\n",
      "\n",
      "#Para o de 1\u00ba:\n",
      "\n",
      "Zrms1=(sum(yc1)**2/20)**0.5\n",
      "Rrms1=(sum(yc1-y)**2/20)**0.5\n",
      "print(Zrms1)\n",
      "print(Rrms1)\n",
      "\n",
      "FIT1=(Zrms1/(Zrms1+Rrms1))*100\n",
      "print(FIT1)"
     ],
     "language": "python",
     "metadata": {},
     "outputs": [
      {
       "output_type": "stream",
       "stream": "stdout",
       "text": [
        "8.90888646014\n",
        "0.661484483557\n",
        "93.0882043397\n"
       ]
      }
     ],
     "prompt_number": 42
    },
    {
     "cell_type": "code",
     "collapsed": false,
     "input": [
      "#Para o de 2\u00ba:\n",
      "\n",
      "Zrms2=(sum(yc2)**2/20)**0.5\n",
      "Rrms2=(sum(yc2-y)**2/20)**0.5\n",
      "print(Zrms2)\n",
      "print(Rrms2)\n",
      "\n",
      "FIT2=(Zrms2/(Zrms2+Rrms2))*100\n",
      "print(FIT2)"
     ],
     "language": "python",
     "metadata": {},
     "outputs": [
      {
       "output_type": "stream",
       "stream": "stdout",
       "text": [
        "9.22904506157\n",
        "0.341325882128\n",
        "96.4335146032\n"
       ]
      }
     ],
     "prompt_number": 40
    },
    {
     "cell_type": "code",
     "collapsed": false,
     "input": [
      "#Para o de 3\u00ba:\n",
      "\n",
      "Zrms3=(sum(yc3)**2/20)**0.5\n",
      "Rrms3=(sum(yc3-y)**2/20)**0.5\n",
      "print(Zrms3)\n",
      "print(Rrms3)\n",
      "\n",
      "FIT3=(Zrms3/(Zrms3+Rrms3))*100\n",
      "print(FIT3)"
     ],
     "language": "python",
     "metadata": {},
     "outputs": [
      {
       "output_type": "stream",
       "stream": "stdout",
       "text": [
        "9.55122775727\n",
        "0.0191431864322\n",
        "99.7999744572\n"
       ]
      }
     ],
     "prompt_number": 43
    },
    {
     "cell_type": "code",
     "collapsed": false,
     "input": [],
     "language": "python",
     "metadata": {},
     "outputs": []
    }
   ],
   "metadata": {}
  }
 ]
}