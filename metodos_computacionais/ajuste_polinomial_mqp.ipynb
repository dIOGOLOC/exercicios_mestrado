{
 "metadata": {
  "name": ""
 },
 "nbformat": 3,
 "nbformat_minor": 0,
 "worksheets": [
  {
   "cells": [
    {
     "cell_type": "code",
     "collapsed": false,
     "input": [
      "%pylab inline"
     ],
     "language": "python",
     "metadata": {},
     "outputs": [
      {
       "output_type": "stream",
       "stream": "stdout",
       "text": [
        "Populating the interactive namespace from numpy and matplotlib\n"
       ]
      }
     ],
     "prompt_number": 69
    },
    {
     "cell_type": "code",
     "collapsed": false,
     "input": [
      "from __future__ import print_function\n",
      "import numpy as np\n",
      "import matplotlib.pyplot as plt"
     ],
     "language": "python",
     "metadata": {},
     "outputs": [],
     "prompt_number": 70
    },
    {
     "cell_type": "code",
     "collapsed": false,
     "input": [
      "dados=np.transpose([[1,1.10,0.10],[2,1.00,0.10],[3,1.20,0.11],[4,1.36,0.12],[5,1.20,0.14],[6,1.55,0.16],[7,2.00,0.19],[8,2.14,0.21],\n",
      "       [9,2.11,0.24],[10,2.40,0.26],[11,2.61,0.28],[12,3.13,0.29],[13,3.00,0.30],[14,2.80,0.30],[15,2.71,0.29],[16,3.21,0.28],\n",
      "       [17,2.41,0.27],[18,2.51,0.25],[19,2.25,0.22],[20,2.11,0.20]])"
     ],
     "language": "python",
     "metadata": {},
     "outputs": [],
     "prompt_number": 71
    },
    {
     "cell_type": "code",
     "collapsed": false,
     "input": [
      "print(dados)"
     ],
     "language": "python",
     "metadata": {},
     "outputs": [
      {
       "output_type": "stream",
       "stream": "stdout",
       "text": [
        "[[  1.     2.     3.     4.     5.     6.     7.     8.     9.    10.    11.\n",
        "   12.    13.    14.    15.    16.    17.    18.    19.    20.  ]\n",
        " [  1.1    1.     1.2    1.36   1.2    1.55   2.     2.14   2.11   2.4\n",
        "    2.61   3.13   3.     2.8    2.71   3.21   2.41   2.51   2.25   2.11]\n",
        " [  0.1    0.1    0.11   0.12   0.14   0.16   0.19   0.21   0.24   0.26\n",
        "    0.28   0.29   0.3    0.3    0.29   0.28   0.27   0.25   0.22   0.2 ]]\n"
       ]
      }
     ],
     "prompt_number": 72
    },
    {
     "cell_type": "code",
     "collapsed": false,
     "input": [
      "x=dados[0]\n",
      "y=dados[1]\n",
      "sigma=dados[2]\n",
      "\n",
      "print(x.shape)\n",
      "print(y.shape)\n",
      "print(sigma.shape)"
     ],
     "language": "python",
     "metadata": {},
     "outputs": [
      {
       "output_type": "stream",
       "stream": "stdout",
       "text": [
        "(20,)\n",
        "(20,)\n",
        "(20,)\n"
       ]
      }
     ],
     "prompt_number": 92
    },
    {
     "cell_type": "code",
     "collapsed": false,
     "input": [
      "#Plotando o gr\u00e1fico com as barras de erro:\n",
      "\n",
      "plt.errorbar(x,y,yerr=sigma,fmt='or')"
     ],
     "language": "python",
     "metadata": {},
     "outputs": [
      {
       "metadata": {},
       "output_type": "pyout",
       "prompt_number": 81,
       "text": [
        "<Container object of 3 artists>"
       ]
      },
      {
       "metadata": {},
       "output_type": "display_data",
       "png": "[encoded data removed]",
       "text": [
        "<matplotlib.figure.Figure at 0x3f0ab10>"
       ]
      }
     ],
     "prompt_number": 81
    },
    {
     "cell_type": "code",
     "collapsed": false,
     "input": [
      "#Ajuste polinomial de 1\u00ba grau(y=ax+b):\n",
      "\n",
      "#Matriz Sensibilidade:\n",
      "\n",
      "A=np.array([[x],[np.ones(20)]]).T\n",
      "print(A.shape)\n",
      "print(A)\n",
      "\n",
      "#Matriz Peso\n",
      "\n",
      "W=np.diag(sigma)\n",
      "print(W.shape)"
     ],
     "language": "python",
     "metadata": {},
     "outputs": [
      {
       "output_type": "stream",
       "stream": "stdout",
       "text": [
        "(20, 1, 2)\n",
        "[[[  1.   1.]]\n",
        "\n",
        " [[  2.   1.]]\n",
        "\n",
        " [[  3.   1.]]\n",
        "\n",
        " [[  4.   1.]]\n",
        "\n",
        " [[  5.   1.]]\n",
        "\n",
        " [[  6.   1.]]\n",
        "\n",
        " [[  7.   1.]]\n",
        "\n",
        " [[  8.   1.]]\n",
        "\n",
        " [[  9.   1.]]\n",
        "\n",
        " [[ 10.   1.]]\n",
        "\n",
        " [[ 11.   1.]]\n",
        "\n",
        " [[ 12.   1.]]\n",
        "\n",
        " [[ 13.   1.]]\n",
        "\n",
        " [[ 14.   1.]]\n",
        "\n",
        " [[ 15.   1.]]\n",
        "\n",
        " [[ 16.   1.]]\n",
        "\n",
        " [[ 17.   1.]]\n",
        "\n",
        " [[ 18.   1.]]\n",
        "\n",
        " [[ 19.   1.]]\n",
        "\n",
        " [[ 20.   1.]]]\n",
        "(20, 20)\n"
       ]
      }
     ],
     "prompt_number": 88
    },
    {
     "cell_type": "code",
     "collapsed": false,
     "input": [
      "#Calculo do Ajuste polinomial\n",
      "\n",
      "p=np.linalg.solve(np.dot(A.T,np.dot(W,A)),np.dot(A.T,np.dot(W,y)))\n",
      "\n",
      "print(p)"
     ],
     "language": "python",
     "metadata": {},
     "outputs": [
      {
       "ename": "ValueError",
       "evalue": "objects are not aligned",
       "output_type": "pyerr",
       "traceback": [
        "\u001b[1;31m---------------------------------------------------------------------------\u001b[0m\n\u001b[1;31mValueError\u001b[0m                                Traceback (most recent call last)",
        "\u001b[1;32m<ipython-input-83-07524fea6636>\u001b[0m in \u001b[0;36m<module>\u001b[1;34m()\u001b[0m\n\u001b[0;32m      1\u001b[0m \u001b[1;31m#Calculo do Ajuste polinomial\u001b[0m\u001b[1;33m\u001b[0m\u001b[1;33m\u001b[0m\u001b[0m\n\u001b[0;32m      2\u001b[0m \u001b[1;33m\u001b[0m\u001b[0m\n\u001b[1;32m----> 3\u001b[1;33m \u001b[0mp\u001b[0m\u001b[1;33m=\u001b[0m\u001b[0mnp\u001b[0m\u001b[1;33m.\u001b[0m\u001b[0mlinalg\u001b[0m\u001b[1;33m.\u001b[0m\u001b[0msolve\u001b[0m\u001b[1;33m(\u001b[0m\u001b[0mnp\u001b[0m\u001b[1;33m.\u001b[0m\u001b[0mdot\u001b[0m\u001b[1;33m(\u001b[0m\u001b[0mA\u001b[0m\u001b[1;33m.\u001b[0m\u001b[0mT\u001b[0m\u001b[1;33m,\u001b[0m\u001b[0mnp\u001b[0m\u001b[1;33m.\u001b[0m\u001b[0mdot\u001b[0m\u001b[1;33m(\u001b[0m\u001b[0mW\u001b[0m\u001b[1;33m,\u001b[0m\u001b[0mA\u001b[0m\u001b[1;33m)\u001b[0m\u001b[1;33m)\u001b[0m\u001b[1;33m,\u001b[0m\u001b[0mnp\u001b[0m\u001b[1;33m.\u001b[0m\u001b[0mdot\u001b[0m\u001b[1;33m(\u001b[0m\u001b[0mA\u001b[0m\u001b[1;33m.\u001b[0m\u001b[0mT\u001b[0m\u001b[1;33m,\u001b[0m\u001b[0mnp\u001b[0m\u001b[1;33m.\u001b[0m\u001b[0mdot\u001b[0m\u001b[1;33m(\u001b[0m\u001b[0mW\u001b[0m\u001b[1;33m,\u001b[0m\u001b[0my\u001b[0m\u001b[1;33m)\u001b[0m\u001b[1;33m)\u001b[0m\u001b[1;33m)\u001b[0m\u001b[1;33m\u001b[0m\u001b[0m\n\u001b[0m\u001b[0;32m      4\u001b[0m \u001b[1;33m\u001b[0m\u001b[0m\n\u001b[0;32m      5\u001b[0m \u001b[1;32mprint\u001b[0m\u001b[1;33m(\u001b[0m\u001b[0mp\u001b[0m\u001b[1;33m)\u001b[0m\u001b[1;33m\u001b[0m\u001b[0m\n",
        "\u001b[1;31mValueError\u001b[0m: objects are not aligned"
       ]
      }
     ],
     "prompt_number": 83
    },
    {
     "cell_type": "code",
     "collapsed": false,
     "input": [
      "\n"
     ],
     "language": "python",
     "metadata": {},
     "outputs": []
    }
   ],
   "metadata": {}
  }
 ]
}